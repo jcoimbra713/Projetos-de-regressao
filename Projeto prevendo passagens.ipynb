{
 "cells": [
  {
   "cell_type": "code",
   "execution_count": 1,
   "id": "9c14ff87",
   "metadata": {},
   "outputs": [],
   "source": [
    "#Importação de pacotes\n",
    "import warnings\n",
    "warnings.filterwarnings(\"ignore\") \n",
    "import pandas as pd\n",
    "df = pd.read_csv('Clean_Dataset.csv')\n",
    "import matplotlib.pyplot as plt\n",
    "import seaborn as sns\n",
    "from sklearn.model_selection import train_test_split\n",
    "import numpy as np\n",
    "import joblib # Utilizado para salvar o modelo preditivo\n",
    "from sklearn.preprocessing import LabelEncoder #Utilizada para fazer o OneHotEncoding\n",
    "from sklearn.metrics import mean_squared_error,precision_score, recall_score, f1_score, accuracy_score, roc_auc_score, confusion_matrix\n",
    "from imblearn import under_sampling, over_sampling #Utilizada para fazer o balanceamento de dados\n",
    "from imblearn.over_sampling import SMOTE #Utilizada para fazer o balanceamento de dados\n",
    "from sklearn.preprocessing import MinMaxScaler #Utilizada para fazer a padronização dos dados\n",
    "from sklearn.metrics import r2_score # Utilizado para medir a acuracia do modelo preditivo\n",
    "pd.set_option('display.max_columns', None)\n",
    "pd.set_option('display.max_rows', None)\n",
    "#pd.options.display.float_format = '{:.2f}'.format"
   ]
  },
  {
   "cell_type": "code",
   "execution_count": 2,
   "id": "f30a2582",
   "metadata": {},
   "outputs": [
    {
     "data": {
      "text/html": [
       "<div>\n",
       "<style scoped>\n",
       "    .dataframe tbody tr th:only-of-type {\n",
       "        vertical-align: middle;\n",
       "    }\n",
       "\n",
       "    .dataframe tbody tr th {\n",
       "        vertical-align: top;\n",
       "    }\n",
       "\n",
       "    .dataframe thead th {\n",
       "        text-align: right;\n",
       "    }\n",
       "</style>\n",
       "<table border=\"1\" class=\"dataframe\">\n",
       "  <thead>\n",
       "    <tr style=\"text-align: right;\">\n",
       "      <th></th>\n",
       "      <th>Unnamed: 0</th>\n",
       "      <th>airline</th>\n",
       "      <th>flight</th>\n",
       "      <th>source_city</th>\n",
       "      <th>departure_time</th>\n",
       "      <th>stops</th>\n",
       "      <th>arrival_time</th>\n",
       "      <th>destination_city</th>\n",
       "      <th>class</th>\n",
       "      <th>duration</th>\n",
       "      <th>days_left</th>\n",
       "      <th>price</th>\n",
       "    </tr>\n",
       "  </thead>\n",
       "  <tbody>\n",
       "    <tr>\n",
       "      <th>0</th>\n",
       "      <td>0</td>\n",
       "      <td>SpiceJet</td>\n",
       "      <td>SG-8709</td>\n",
       "      <td>Delhi</td>\n",
       "      <td>Evening</td>\n",
       "      <td>zero</td>\n",
       "      <td>Night</td>\n",
       "      <td>Mumbai</td>\n",
       "      <td>Economy</td>\n",
       "      <td>2.17</td>\n",
       "      <td>1</td>\n",
       "      <td>5953</td>\n",
       "    </tr>\n",
       "  </tbody>\n",
       "</table>\n",
       "</div>"
      ],
      "text/plain": [
       "   Unnamed: 0   airline   flight source_city departure_time stops  \\\n",
       "0           0  SpiceJet  SG-8709       Delhi        Evening  zero   \n",
       "\n",
       "  arrival_time destination_city    class  duration  days_left  price  \n",
       "0        Night           Mumbai  Economy      2.17          1   5953  "
      ]
     },
     "execution_count": 2,
     "metadata": {},
     "output_type": "execute_result"
    }
   ],
   "source": [
    "df.head(1)"
   ]
  },
  {
   "cell_type": "code",
   "execution_count": 3,
   "id": "7b6fcefa",
   "metadata": {},
   "outputs": [
    {
     "name": "stdout",
     "output_type": "stream",
     "text": [
      "<class 'pandas.core.frame.DataFrame'>\n",
      "RangeIndex: 300153 entries, 0 to 300152\n",
      "Data columns (total 12 columns):\n",
      " #   Column            Non-Null Count   Dtype  \n",
      "---  ------            --------------   -----  \n",
      " 0   Unnamed: 0        300153 non-null  int64  \n",
      " 1   airline           300153 non-null  object \n",
      " 2   flight            300153 non-null  object \n",
      " 3   source_city       300153 non-null  object \n",
      " 4   departure_time    300153 non-null  object \n",
      " 5   stops             300153 non-null  object \n",
      " 6   arrival_time      300153 non-null  object \n",
      " 7   destination_city  300153 non-null  object \n",
      " 8   class             300153 non-null  object \n",
      " 9   duration          300153 non-null  float64\n",
      " 10  days_left         300153 non-null  int64  \n",
      " 11  price             300153 non-null  int64  \n",
      "dtypes: float64(1), int64(3), object(8)\n",
      "memory usage: 27.5+ MB\n"
     ]
    }
   ],
   "source": [
    "df.info()"
   ]
  },
  {
   "cell_type": "markdown",
   "id": "a5741466",
   "metadata": {},
   "source": [
    "# TRADUZINDO A BASE DE DADOS"
   ]
  },
  {
   "cell_type": "code",
   "execution_count": 4,
   "id": "79bd6379",
   "metadata": {},
   "outputs": [
    {
     "data": {
      "text/html": [
       "<div>\n",
       "<style scoped>\n",
       "    .dataframe tbody tr th:only-of-type {\n",
       "        vertical-align: middle;\n",
       "    }\n",
       "\n",
       "    .dataframe tbody tr th {\n",
       "        vertical-align: top;\n",
       "    }\n",
       "\n",
       "    .dataframe thead th {\n",
       "        text-align: right;\n",
       "    }\n",
       "</style>\n",
       "<table border=\"1\" class=\"dataframe\">\n",
       "  <thead>\n",
       "    <tr style=\"text-align: right;\">\n",
       "      <th></th>\n",
       "      <th>Unnamed: 0</th>\n",
       "      <th>CompanhiaAérea</th>\n",
       "      <th>flight</th>\n",
       "      <th>CidadeOrigem</th>\n",
       "      <th>HorárioPartida</th>\n",
       "      <th>Paradas</th>\n",
       "      <th>HorárioChegada</th>\n",
       "      <th>CidadeDestino</th>\n",
       "      <th>ClasseEconomica</th>\n",
       "      <th>Duração</th>\n",
       "      <th>DiasRestantes</th>\n",
       "      <th>Preço</th>\n",
       "    </tr>\n",
       "  </thead>\n",
       "  <tbody>\n",
       "    <tr>\n",
       "      <th>0</th>\n",
       "      <td>0</td>\n",
       "      <td>SpiceJet</td>\n",
       "      <td>SG-8709</td>\n",
       "      <td>Delhi</td>\n",
       "      <td>Evening</td>\n",
       "      <td>zero</td>\n",
       "      <td>Night</td>\n",
       "      <td>Mumbai</td>\n",
       "      <td>Economy</td>\n",
       "      <td>2.17</td>\n",
       "      <td>1</td>\n",
       "      <td>5953</td>\n",
       "    </tr>\n",
       "  </tbody>\n",
       "</table>\n",
       "</div>"
      ],
      "text/plain": [
       "   Unnamed: 0 CompanhiaAérea   flight CidadeOrigem HorárioPartida Paradas  \\\n",
       "0           0       SpiceJet  SG-8709        Delhi        Evening    zero   \n",
       "\n",
       "  HorárioChegada CidadeDestino ClasseEconomica  Duração  DiasRestantes  Preço  \n",
       "0          Night        Mumbai         Economy     2.17              1   5953  "
      ]
     },
     "execution_count": 4,
     "metadata": {},
     "output_type": "execute_result"
    }
   ],
   "source": [
    "df_traduzida = df.rename(columns={'airline':'CompanhiaAérea','source_city':'CidadeOrigem','departure_time':'HorárioPartida','stops':'Paradas','arrival_time':'HorárioChegada','destination_city':'CidadeDestino','class':'ClasseEconomica','duration':'Duração','days_left':'DiasRestantes','price':'Preço'})\n",
    "df_traduzida.head(1)"
   ]
  },
  {
   "cell_type": "markdown",
   "id": "da75e94c",
   "metadata": {},
   "source": [
    "# MANIPULAÇÃO E TRATAMENTO DE DADOS"
   ]
  },
  {
   "cell_type": "markdown",
   "id": "b29dc20a",
   "metadata": {},
   "source": [
    "### VALORES NULOS E DUPLICADO"
   ]
  },
  {
   "cell_type": "code",
   "execution_count": 5,
   "id": "59f3ddbd",
   "metadata": {},
   "outputs": [
    {
     "data": {
      "text/plain": [
       "Unnamed: 0         0.0\n",
       "CompanhiaAérea     0.0\n",
       "flight             0.0\n",
       "CidadeOrigem       0.0\n",
       "HorárioPartida     0.0\n",
       "Paradas            0.0\n",
       "HorárioChegada     0.0\n",
       "CidadeDestino      0.0\n",
       "ClasseEconomica    0.0\n",
       "Duração            0.0\n",
       "DiasRestantes      0.0\n",
       "Preço              0.0\n",
       "dtype: float64"
      ]
     },
     "execution_count": 5,
     "metadata": {},
     "output_type": "execute_result"
    }
   ],
   "source": [
    "(df_traduzida.isnull().sum() / len(df_traduzida['Preço']))*100"
   ]
  },
  {
   "cell_type": "code",
   "execution_count": 6,
   "id": "cacd316b",
   "metadata": {},
   "outputs": [
    {
     "data": {
      "text/plain": [
       "0"
      ]
     },
     "execution_count": 6,
     "metadata": {},
     "output_type": "execute_result"
    }
   ],
   "source": [
    "df_traduzida.duplicated().sum()"
   ]
  },
  {
   "cell_type": "code",
   "execution_count": 7,
   "id": "e116654f",
   "metadata": {},
   "outputs": [],
   "source": [
    "df_traduzida = df_traduzida.drop_duplicates()"
   ]
  },
  {
   "cell_type": "markdown",
   "id": "3a83256b",
   "metadata": {},
   "source": [
    "### EXCLUINDO COLUNAS QUE NÃO SERÃO UTILIZADAS"
   ]
  },
  {
   "cell_type": "code",
   "execution_count": 8,
   "id": "9658126d",
   "metadata": {},
   "outputs": [],
   "source": [
    "del df_traduzida['Unnamed: 0']\n",
    "del df_traduzida['flight']"
   ]
  },
  {
   "cell_type": "code",
   "execution_count": 9,
   "id": "29640758",
   "metadata": {},
   "outputs": [
    {
     "data": {
      "text/plain": [
       "CompanhiaAérea\n",
       "AirAsia       16098\n",
       "Air_India     80892\n",
       "GO_FIRST      23173\n",
       "Indigo        43120\n",
       "SpiceJet       9011\n",
       "Vistara      127859\n",
       "dtype: int64"
      ]
     },
     "execution_count": 9,
     "metadata": {},
     "output_type": "execute_result"
    }
   ],
   "source": [
    "df_traduzida.groupby(df_traduzida['CompanhiaAérea']).size()"
   ]
  },
  {
   "cell_type": "code",
   "execution_count": 10,
   "id": "f3887333",
   "metadata": {},
   "outputs": [
    {
     "data": {
      "text/plain": [
       "CidadeOrigem\n",
       "Bangalore    52061\n",
       "Chennai      38700\n",
       "Delhi        61343\n",
       "Hyderabad    40806\n",
       "Kolkata      46347\n",
       "Mumbai       60896\n",
       "dtype: int64"
      ]
     },
     "execution_count": 10,
     "metadata": {},
     "output_type": "execute_result"
    }
   ],
   "source": [
    "df_traduzida.groupby(df_traduzida['CidadeOrigem']).size()"
   ]
  },
  {
   "cell_type": "code",
   "execution_count": 11,
   "id": "b5494461",
   "metadata": {},
   "outputs": [
    {
     "data": {
      "text/plain": [
       "CidadeDestino\n",
       "Bangalore    51068\n",
       "Chennai      40368\n",
       "Delhi        57360\n",
       "Hyderabad    42726\n",
       "Kolkata      49534\n",
       "Mumbai       59097\n",
       "dtype: int64"
      ]
     },
     "execution_count": 11,
     "metadata": {},
     "output_type": "execute_result"
    }
   ],
   "source": [
    "df_traduzida.groupby(df_traduzida['CidadeDestino']).size()"
   ]
  },
  {
   "cell_type": "code",
   "execution_count": 12,
   "id": "f99f32d6",
   "metadata": {},
   "outputs": [
    {
     "data": {
      "text/plain": [
       "ClasseEconomica\n",
       "Business     93487\n",
       "Economy     206666\n",
       "dtype: int64"
      ]
     },
     "execution_count": 12,
     "metadata": {},
     "output_type": "execute_result"
    }
   ],
   "source": [
    "df_traduzida.groupby(df_traduzida['ClasseEconomica']).size()"
   ]
  },
  {
   "cell_type": "code",
   "execution_count": 13,
   "id": "2186c0b4",
   "metadata": {},
   "outputs": [
    {
     "data": {
      "text/plain": [
       "Paradas\n",
       "one            250863\n",
       "two_or_more     13286\n",
       "zero            36004\n",
       "dtype: int64"
      ]
     },
     "execution_count": 13,
     "metadata": {},
     "output_type": "execute_result"
    }
   ],
   "source": [
    "df_traduzida.groupby(df_traduzida['Paradas']).size()"
   ]
  },
  {
   "cell_type": "markdown",
   "id": "25f5db9b",
   "metadata": {},
   "source": [
    "# ANÁLISE EXPLORATÓRIA"
   ]
  },
  {
   "cell_type": "markdown",
   "id": "1fda9bea",
   "metadata": {},
   "source": [
    "## ESTATÍSTICA"
   ]
  },
  {
   "cell_type": "code",
   "execution_count": 14,
   "id": "23fd61a1",
   "metadata": {},
   "outputs": [
    {
     "data": {
      "text/html": [
       "<div>\n",
       "<style scoped>\n",
       "    .dataframe tbody tr th:only-of-type {\n",
       "        vertical-align: middle;\n",
       "    }\n",
       "\n",
       "    .dataframe tbody tr th {\n",
       "        vertical-align: top;\n",
       "    }\n",
       "\n",
       "    .dataframe thead th {\n",
       "        text-align: right;\n",
       "    }\n",
       "</style>\n",
       "<table border=\"1\" class=\"dataframe\">\n",
       "  <thead>\n",
       "    <tr style=\"text-align: right;\">\n",
       "      <th></th>\n",
       "      <th>Duração</th>\n",
       "      <th>DiasRestantes</th>\n",
       "      <th>Preço</th>\n",
       "    </tr>\n",
       "  </thead>\n",
       "  <tbody>\n",
       "    <tr>\n",
       "      <th>count</th>\n",
       "      <td>300153.000000</td>\n",
       "      <td>300153.000000</td>\n",
       "      <td>300153.000000</td>\n",
       "    </tr>\n",
       "    <tr>\n",
       "      <th>mean</th>\n",
       "      <td>12.221021</td>\n",
       "      <td>26.004751</td>\n",
       "      <td>20889.660523</td>\n",
       "    </tr>\n",
       "    <tr>\n",
       "      <th>std</th>\n",
       "      <td>7.191997</td>\n",
       "      <td>13.561004</td>\n",
       "      <td>22697.767366</td>\n",
       "    </tr>\n",
       "    <tr>\n",
       "      <th>min</th>\n",
       "      <td>0.830000</td>\n",
       "      <td>1.000000</td>\n",
       "      <td>1105.000000</td>\n",
       "    </tr>\n",
       "    <tr>\n",
       "      <th>25%</th>\n",
       "      <td>6.830000</td>\n",
       "      <td>15.000000</td>\n",
       "      <td>4783.000000</td>\n",
       "    </tr>\n",
       "    <tr>\n",
       "      <th>50%</th>\n",
       "      <td>11.250000</td>\n",
       "      <td>26.000000</td>\n",
       "      <td>7425.000000</td>\n",
       "    </tr>\n",
       "    <tr>\n",
       "      <th>75%</th>\n",
       "      <td>16.170000</td>\n",
       "      <td>38.000000</td>\n",
       "      <td>42521.000000</td>\n",
       "    </tr>\n",
       "    <tr>\n",
       "      <th>max</th>\n",
       "      <td>49.830000</td>\n",
       "      <td>49.000000</td>\n",
       "      <td>123071.000000</td>\n",
       "    </tr>\n",
       "  </tbody>\n",
       "</table>\n",
       "</div>"
      ],
      "text/plain": [
       "             Duração  DiasRestantes          Preço\n",
       "count  300153.000000  300153.000000  300153.000000\n",
       "mean       12.221021      26.004751   20889.660523\n",
       "std         7.191997      13.561004   22697.767366\n",
       "min         0.830000       1.000000    1105.000000\n",
       "25%         6.830000      15.000000    4783.000000\n",
       "50%        11.250000      26.000000    7425.000000\n",
       "75%        16.170000      38.000000   42521.000000\n",
       "max        49.830000      49.000000  123071.000000"
      ]
     },
     "execution_count": 14,
     "metadata": {},
     "output_type": "execute_result"
    }
   ],
   "source": [
    "df_traduzida.describe()"
   ]
  },
  {
   "cell_type": "code",
   "execution_count": 15,
   "id": "c792d059",
   "metadata": {},
   "outputs": [
    {
     "data": {
      "text/plain": [
       "array([[<Axes: title={'center': 'Duração'}>,\n",
       "        <Axes: title={'center': 'DiasRestantes'}>],\n",
       "       [<Axes: title={'center': 'Preço'}>, <Axes: >]], dtype=object)"
      ]
     },
     "execution_count": 15,
     "metadata": {},
     "output_type": "execute_result"
    },
    {
     "data": {
      "image/png": "[encoded data removed]",
      "text/plain": [
       "<Figure size 640x480 with 4 Axes>"
      ]
     },
     "metadata": {},
     "output_type": "display_data"
    }
   ],
   "source": [
    "df_traduzida.hist()"
   ]
  },
  {
   "cell_type": "code",
   "execution_count": 16,
   "id": "b81d37c3",
   "metadata": {},
   "outputs": [
    {
     "data": {
      "image/png": "[encoded data removed]",
      "text/plain": [
       "<Figure size 640x480 with 1 Axes>"
      ]
     },
     "metadata": {},
     "output_type": "display_data"
    }
   ],
   "source": [
    "ax = sns.histplot(df_traduzida.Preço, stat=\"density\", kde=True, color='#74acd4', lw=1)"
   ]
  },
  {
   "cell_type": "code",
   "execution_count": 17,
   "id": "3a82adaa",
   "metadata": {},
   "outputs": [
    {
     "data": {
      "image/png": "[encoded data removed]",
      "text/plain": [
       "<Figure size 640x480 with 1 Axes>"
      ]
     },
     "metadata": {},
     "output_type": "display_data"
    }
   ],
   "source": [
    "ax = sns.histplot(df_traduzida.Duração, stat=\"density\", kde=True, color='#74acd4', lw=1)"
   ]
  },
  {
   "cell_type": "code",
   "execution_count": 18,
   "id": "b5492d3a",
   "metadata": {},
   "outputs": [
    {
     "data": {
      "image/png": "[encoded data removed]",
      "text/plain": [
       "<Figure size 640x480 with 1 Axes>"
      ]
     },
     "metadata": {},
     "output_type": "display_data"
    }
   ],
   "source": [
    "ax = sns.histplot(df_traduzida.DiasRestantes, stat=\"density\", kde=True, color='#74acd4', lw=1)"
   ]
  },
  {
   "cell_type": "markdown",
   "id": "c955db0c",
   "metadata": {},
   "source": [
    "### MODA"
   ]
  },
  {
   "cell_type": "code",
   "execution_count": 19,
   "id": "ad38b270",
   "metadata": {},
   "outputs": [],
   "source": [
    "from statistics import mode"
   ]
  },
  {
   "cell_type": "code",
   "execution_count": 20,
   "id": "32d28380",
   "metadata": {},
   "outputs": [
    {
     "data": {
      "text/plain": [
       "0    54608\n",
       "Name: Preço, dtype: int64"
      ]
     },
     "execution_count": 20,
     "metadata": {},
     "output_type": "execute_result"
    }
   ],
   "source": [
    "df_traduzida['Preço'].mode()"
   ]
  },
  {
   "cell_type": "code",
   "execution_count": 21,
   "id": "e700f9b7",
   "metadata": {},
   "outputs": [
    {
     "data": {
      "text/plain": [
       "0    2.17\n",
       "Name: Duração, dtype: float64"
      ]
     },
     "execution_count": 21,
     "metadata": {},
     "output_type": "execute_result"
    }
   ],
   "source": [
    "df_traduzida['Duração'].mode()"
   ]
  },
  {
   "cell_type": "code",
   "execution_count": 22,
   "id": "16a5a9df",
   "metadata": {},
   "outputs": [
    {
     "data": {
      "text/plain": [
       "0    25\n",
       "Name: DiasRestantes, dtype: int64"
      ]
     },
     "execution_count": 22,
     "metadata": {},
     "output_type": "execute_result"
    }
   ],
   "source": [
    "df_traduzida['DiasRestantes'].mode()"
   ]
  },
  {
   "cell_type": "markdown",
   "id": "b4845c18",
   "metadata": {},
   "source": [
    "### VERIFICANDO AS CORRELAÇÕES "
   ]
  },
  {
   "cell_type": "code",
   "execution_count": 23,
   "id": "c63ce777",
   "metadata": {},
   "outputs": [
    {
     "data": {
      "image/png": "[encoded data removed]",
      "text/plain": [
       "<Figure size 800x800 with 2 Axes>"
      ]
     },
     "metadata": {},
     "output_type": "display_data"
    }
   ],
   "source": [
    "# Correlação\n",
    "# A correção é utilizada para entender como as variaveis se relacionam entre si.\n",
    "# A correção vai de -1 até +1 onde -1 significa uma forte correção negativa e +1 significa uma forte correlação positiva.\n",
    "# Correlação NÃO é causalidade, ou seja, uma relação entre as variaveis não significa que uma é a causa do valor da outra.\n",
    "\n",
    "\n",
    "plt.rcParams['xtick.labelsize'] = 10\n",
    "plt.rcParams['ytick.labelsize'] = 10\n",
    "plt.rcParams['font.size'] = 10 \n",
    "plt.rcParams['axes.titlesize'] = 20\n",
    "plt.rcParams[\"figure.figsize\"] = [8.00, 8.00]\n",
    "plt.rcParams[\"figure.autolayout\"] = True\n",
    "sns.heatmap(df_traduzida.corr(), annot=True)\n",
    "plt.show()"
   ]
  },
  {
   "cell_type": "markdown",
   "id": "cd07e74d",
   "metadata": {},
   "source": [
    "### VERIFICANDO SE HÁ POSSIBILIDADE DE OUTHILIERS"
   ]
  },
  {
   "cell_type": "code",
   "execution_count": 24,
   "id": "00fd1e33",
   "metadata": {},
   "outputs": [
    {
     "name": "stdout",
     "output_type": "stream",
     "text": [
      "Duração : float64\n",
      "DiasRestantes : int64\n",
      "Preço : int64\n"
     ]
    },
    {
     "data": {
      "image/png": "[encoded data removed]",
      "text/plain": [
       "<Figure size 1400x1000 with 6 Axes>"
      ]
     },
     "metadata": {},
     "output_type": "display_data"
    }
   ],
   "source": [
    "variaveis_numericas = []\n",
    "for i in df_traduzida.columns[0:16].tolist():\n",
    "        if df_traduzida.dtypes[i] == 'int64' or df_traduzida.dtypes[i] == 'float64':            \n",
    "            print(i, ':' , df_traduzida.dtypes[i]) \n",
    "            variaveis_numericas.append(i)\n",
    " \n",
    "    \n",
    "    \n",
    "    \n",
    "plt.rcParams[\"figure.figsize\"] = [14.00, 10.00]\n",
    "plt.rcParams[\"figure.autolayout\"] = True\n",
    "\n",
    "plt.rcParams['font.size'] = 10 \n",
    "plt.rcParams['axes.titlesize'] = 20\n",
    "\n",
    "f, axes = plt.subplots(2, 3) #8 linhas e 4 colunas\n",
    "\n",
    "linha = 0\n",
    "coluna = 0\n",
    "for i in variaveis_numericas:\n",
    "    sns.boxplot(data = df_traduzida, y=i, ax=axes[linha][coluna])\n",
    "    coluna += 1\n",
    "    if coluna == 3:\n",
    "        linha += 1\n",
    "        coluna = 0            \n",
    "\n",
    "plt.show()"
   ]
  },
  {
   "cell_type": "markdown",
   "id": "184aa08e",
   "metadata": {},
   "source": [
    "### ANÁLISE EXPLORATÓRIA DOS DADOS COM PYGWALKER"
   ]
  },
  {
   "cell_type": "code",
   "execution_count": 25,
   "id": "bc0c34ce",
   "metadata": {},
   "outputs": [
    {
     "name": "stderr",
     "output_type": "stream",
     "text": [
      "WARNING: parse invoke code failed, This may affect feature of export code.\n"
     ]
    },
    {
     "data": {
      "application/vnd.jupyter.widget-view+json": {
       "model_id": "c5211f53c91d451f81d59fac0ecfe3f5",
       "version_major": 2,
       "version_minor": 0
      },
      "text/plain": [
       "Box(children=(HTML(value='<div id=\"ifr-pyg-0\" style=\"height: auto\">\\n    <head>\\n        <meta http-equiv=\"Con…"
      ]
     },
     "metadata": {},
     "output_type": "display_data"
    },
    {
     "data": {
      "text/html": [
       "<html>\n",
       "<style>\n",
       ".tabs{\n",
       "    position:relative;\n",
       "    height:660px;\n",
       "}\n",
       ".tab-pane{\n",
       "    display:inline-block;\n",
       "}\n",
       ".tabs input[type='radio']{\n",
       "    position:absolute;\n",
       "    clip:rect(0,0,0,0)\n",
       "}\n",
       ".tab-item{\n",
       "    display:block;\n",
       "    height:34px;\n",
       "    line-height:34px;\n",
       "    cursor:pointer;\n",
       "    padding:0 10px\n",
       "}\n",
       "\n",
       ".tabs input[type='radio']:checked+.tab-item{\n",
       "    background:#2563eb;\n",
       "    color:#fff\n",
       "}\n",
       "\n",
       ".tab-content{\n",
       "    display: none;\n",
       "    position:absolute;\n",
       "    left:0;\n",
       "    top:56px;\n",
       "    bottom:0;\n",
       "    right:0;\n",
       "}\n",
       "\n",
       ".tabs input[type='radio']:checked+.tab-item+.tab-content{\n",
       "    display: block;\n",
       "}\n",
       "</style>\n",
       "\n",
       "<body>\n",
       "    <div id=\"pygwalker-preview-0\">\n",
       "        <div class=\"tabs\">\n",
       "            \n",
       "        </div>\n",
       "    </div>\n",
       "</body>\n",
       "</html>"
      ],
      "text/plain": [
       "<IPython.core.display.HTML object>"
      ]
     },
     "metadata": {},
     "output_type": "display_data"
    },
    {
     "data": {
      "text/plain": [
       "<pygwalker.api.pygwalker.PygWalker at 0x251cb7afe50>"
      ]
     },
     "execution_count": 25,
     "metadata": {},
     "output_type": "execute_result"
    }
   ],
   "source": [
    "#!pip install pygwalker -q\n",
    "import pygwalker as pyg\n",
    "pyg.walk(df_traduzida)"
   ]
  },
  {
   "cell_type": "markdown",
   "id": "c018155c",
   "metadata": {},
   "source": [
    "# ANÁLISE DOS DADOS "
   ]
  },
  {
   "cell_type": "markdown",
   "id": "4c1493dd",
   "metadata": {},
   "source": [
    "### EXCLUINDO VALORES DUPLICADOS GERADOS DURANTE O CODIGO"
   ]
  },
  {
   "cell_type": "code",
   "execution_count": 97,
   "id": "e3991bf9",
   "metadata": {},
   "outputs": [],
   "source": [
    "df_traduzida = df_traduzida.drop_duplicates()"
   ]
  },
  {
   "cell_type": "code",
   "execution_count": 98,
   "id": "1528351a",
   "metadata": {},
   "outputs": [],
   "source": [
    "df_traduzida = df_traduzida.drop_duplicates()"
   ]
  },
  {
   "cell_type": "code",
   "execution_count": 99,
   "id": "e383e15a",
   "metadata": {},
   "outputs": [
    {
     "data": {
      "text/html": [
       "<div>\n",
       "<style scoped>\n",
       "    .dataframe tbody tr th:only-of-type {\n",
       "        vertical-align: middle;\n",
       "    }\n",
       "\n",
       "    .dataframe tbody tr th {\n",
       "        vertical-align: top;\n",
       "    }\n",
       "\n",
       "    .dataframe thead th {\n",
       "        text-align: right;\n",
       "    }\n",
       "</style>\n",
       "<table border=\"1\" class=\"dataframe\">\n",
       "  <thead>\n",
       "    <tr style=\"text-align: right;\">\n",
       "      <th></th>\n",
       "      <th>CompanhiaAérea</th>\n",
       "      <th>CidadeOrigem</th>\n",
       "      <th>HorárioPartida</th>\n",
       "      <th>Paradas</th>\n",
       "      <th>HorárioChegada</th>\n",
       "      <th>CidadeDestino</th>\n",
       "      <th>ClasseEconomica</th>\n",
       "      <th>Duração</th>\n",
       "      <th>DiasRestantes</th>\n",
       "      <th>Preço</th>\n",
       "    </tr>\n",
       "  </thead>\n",
       "  <tbody>\n",
       "    <tr>\n",
       "      <th>0</th>\n",
       "      <td>SpiceJet</td>\n",
       "      <td>Delhi</td>\n",
       "      <td>Evening</td>\n",
       "      <td>zero</td>\n",
       "      <td>Night</td>\n",
       "      <td>Mumbai</td>\n",
       "      <td>Economy</td>\n",
       "      <td>2.17</td>\n",
       "      <td>1</td>\n",
       "      <td>5953</td>\n",
       "    </tr>\n",
       "  </tbody>\n",
       "</table>\n",
       "</div>"
      ],
      "text/plain": [
       "  CompanhiaAérea CidadeOrigem HorárioPartida Paradas HorárioChegada  \\\n",
       "0       SpiceJet        Delhi        Evening    zero          Night   \n",
       "\n",
       "  CidadeDestino ClasseEconomica  Duração  DiasRestantes  Preço  \n",
       "0        Mumbai         Economy     2.17              1   5953  "
      ]
     },
     "execution_count": 99,
     "metadata": {},
     "output_type": "execute_result"
    }
   ],
   "source": [
    "df_traduzida.head(1)"
   ]
  },
  {
   "cell_type": "markdown",
   "id": "26e0cf26",
   "metadata": {},
   "source": [
    "### ANALISANDO OS PREÇOS, SOMA, MÉDIA, QUANTIDADE DAS CAMPANHIAS AREA "
   ]
  },
  {
   "cell_type": "code",
   "execution_count": 100,
   "id": "489e869b",
   "metadata": {},
   "outputs": [
    {
     "data": {
      "text/html": [
       "<div>\n",
       "<style scoped>\n",
       "    .dataframe tbody tr th:only-of-type {\n",
       "        vertical-align: middle;\n",
       "    }\n",
       "\n",
       "    .dataframe tbody tr th {\n",
       "        vertical-align: top;\n",
       "    }\n",
       "\n",
       "    .dataframe thead th {\n",
       "        text-align: right;\n",
       "    }\n",
       "</style>\n",
       "<table border=\"1\" class=\"dataframe\">\n",
       "  <thead>\n",
       "    <tr style=\"text-align: right;\">\n",
       "      <th></th>\n",
       "      <th>Total de Vendas</th>\n",
       "      <th>Média das Vendas</th>\n",
       "      <th>Número de Vendas</th>\n",
       "    </tr>\n",
       "    <tr>\n",
       "      <th>CompanhiaAérea</th>\n",
       "      <th></th>\n",
       "      <th></th>\n",
       "      <th></th>\n",
       "    </tr>\n",
       "  </thead>\n",
       "  <tbody>\n",
       "    <tr>\n",
       "      <th>Vistara</th>\n",
       "      <td>$3,871,670,480.00</td>\n",
       "      <td>$30,494.72</td>\n",
       "      <td>126962</td>\n",
       "    </tr>\n",
       "    <tr>\n",
       "      <th>Air_India</th>\n",
       "      <td>$1,901,365,519.00</td>\n",
       "      <td>$23,507.89</td>\n",
       "      <td>80882</td>\n",
       "    </tr>\n",
       "    <tr>\n",
       "      <th>Indigo</th>\n",
       "      <td>$227,160,154.00</td>\n",
       "      <td>$5,348.72</td>\n",
       "      <td>42470</td>\n",
       "    </tr>\n",
       "    <tr>\n",
       "      <th>GO_FIRST</th>\n",
       "      <td>$130,255,466.00</td>\n",
       "      <td>$5,668.46</td>\n",
       "      <td>22979</td>\n",
       "    </tr>\n",
       "    <tr>\n",
       "      <th>AirAsia</th>\n",
       "      <td>$65,636,559.00</td>\n",
       "      <td>$4,099.47</td>\n",
       "      <td>16011</td>\n",
       "    </tr>\n",
       "    <tr>\n",
       "      <th>SpiceJet</th>\n",
       "      <td>$53,634,919.00</td>\n",
       "      <td>$6,210.62</td>\n",
       "      <td>8636</td>\n",
       "    </tr>\n",
       "  </tbody>\n",
       "</table>\n",
       "</div>"
      ],
      "text/plain": [
       "                  Total de Vendas Média das Vendas  Número de Vendas\n",
       "CompanhiaAérea                                                      \n",
       "Vistara         $3,871,670,480.00       $30,494.72            126962\n",
       "Air_India       $1,901,365,519.00       $23,507.89             80882\n",
       "Indigo            $227,160,154.00        $5,348.72             42470\n",
       "GO_FIRST          $130,255,466.00        $5,668.46             22979\n",
       "AirAsia            $65,636,559.00        $4,099.47             16011\n",
       "SpiceJet           $53,634,919.00        $6,210.62              8636"
      ]
     },
     "execution_count": 100,
     "metadata": {},
     "output_type": "execute_result"
    }
   ],
   "source": [
    "total_compras = df_traduzida.groupby([\"CompanhiaAérea\"]).sum()[\"Preço\"].rename(\"Total de Vendas\")\n",
    "media_compra = df_traduzida.groupby([\"CompanhiaAérea\"]).mean()[\"Preço\"].rename(\"Média das Vendas\")\n",
    "numero = df_traduzida.groupby([\"CompanhiaAérea\"]).count()[\"Preço\"].rename('Número de Vendas')\n",
    "# Dataframe para os resultados\n",
    "dados_usuarios = pd.DataFrame({\"Total de Vendas\": total_compras, \"Média das Vendas\":media_compra,\"Número de Vendas\":numero})\n",
    "\n",
    "# Manipulação de Dados\n",
    "dados_usuarios [\"Total de Vendas\"] = dados_usuarios[\"Total de Vendas\"].map(\"${:,.2f}\".format)\n",
    "dados_usuarios [\"Média das Vendas\"] = dados_usuarios[\"Média das Vendas\"].map(\"${:,.2f}\".format)\n",
    "dados_usuarios.sort_values(\"Número de Vendas\", ascending=False).head(10)"
   ]
  },
  {
   "cell_type": "markdown",
   "id": "820d1aee",
   "metadata": {},
   "source": [
    "### ANALISANDO OS PREÇOS, SOMA, MÉDIA, E QUANTIDADE DAS ORIGENS "
   ]
  },
  {
   "cell_type": "code",
   "execution_count": 101,
   "id": "bc361677",
   "metadata": {},
   "outputs": [
    {
     "data": {
      "text/html": [
       "<div>\n",
       "<style scoped>\n",
       "    .dataframe tbody tr th:only-of-type {\n",
       "        vertical-align: middle;\n",
       "    }\n",
       "\n",
       "    .dataframe tbody tr th {\n",
       "        vertical-align: top;\n",
       "    }\n",
       "\n",
       "    .dataframe thead th {\n",
       "        text-align: right;\n",
       "    }\n",
       "</style>\n",
       "<table border=\"1\" class=\"dataframe\">\n",
       "  <thead>\n",
       "    <tr style=\"text-align: right;\">\n",
       "      <th></th>\n",
       "      <th>Total de Vendas</th>\n",
       "      <th>Média das Vendas</th>\n",
       "      <th>Número de Vendas</th>\n",
       "    </tr>\n",
       "    <tr>\n",
       "      <th>CidadeOrigem</th>\n",
       "      <th></th>\n",
       "      <th></th>\n",
       "      <th></th>\n",
       "    </tr>\n",
       "  </thead>\n",
       "  <tbody>\n",
       "    <tr>\n",
       "      <th>Delhi</th>\n",
       "      <td>$1,154,696,287.00</td>\n",
       "      <td>$19,082.73</td>\n",
       "      <td>60510</td>\n",
       "    </tr>\n",
       "    <tr>\n",
       "      <th>Mumbai</th>\n",
       "      <td>$1,302,636,010.00</td>\n",
       "      <td>$21,574.68</td>\n",
       "      <td>60378</td>\n",
       "    </tr>\n",
       "    <tr>\n",
       "      <th>Bangalore</th>\n",
       "      <td>$1,112,525,993.00</td>\n",
       "      <td>$21,565.60</td>\n",
       "      <td>51588</td>\n",
       "    </tr>\n",
       "    <tr>\n",
       "      <th>Kolkata</th>\n",
       "      <td>$1,007,298,225.00</td>\n",
       "      <td>$21,784.13</td>\n",
       "      <td>46240</td>\n",
       "    </tr>\n",
       "    <tr>\n",
       "      <th>Hyderabad</th>\n",
       "      <td>$822,054,204.00</td>\n",
       "      <td>$20,195.91</td>\n",
       "      <td>40704</td>\n",
       "    </tr>\n",
       "    <tr>\n",
       "      <th>Chennai</th>\n",
       "      <td>$850,512,378.00</td>\n",
       "      <td>$22,079.76</td>\n",
       "      <td>38520</td>\n",
       "    </tr>\n",
       "  </tbody>\n",
       "</table>\n",
       "</div>"
      ],
      "text/plain": [
       "                Total de Vendas Média das Vendas  Número de Vendas\n",
       "CidadeOrigem                                                      \n",
       "Delhi         $1,154,696,287.00       $19,082.73             60510\n",
       "Mumbai        $1,302,636,010.00       $21,574.68             60378\n",
       "Bangalore     $1,112,525,993.00       $21,565.60             51588\n",
       "Kolkata       $1,007,298,225.00       $21,784.13             46240\n",
       "Hyderabad       $822,054,204.00       $20,195.91             40704\n",
       "Chennai         $850,512,378.00       $22,079.76             38520"
      ]
     },
     "execution_count": 101,
     "metadata": {},
     "output_type": "execute_result"
    }
   ],
   "source": [
    "total_compras = df_traduzida.groupby([\"CidadeOrigem\"]).sum()[\"Preço\"].rename(\"Total de Vendas\")\n",
    "media_compra = df_traduzida.groupby([\"CidadeOrigem\"]).mean()[\"Preço\"].rename(\"Média das Vendas\")\n",
    "numero = df_traduzida.groupby([\"CidadeOrigem\"]).count()[\"Preço\"].rename('Número de Vendas')\n",
    "# Dataframe para os resultados\n",
    "dados_usuarios = pd.DataFrame({\"Total de Vendas\": total_compras, \"Média das Vendas\":media_compra,\"Número de Vendas\":numero})\n",
    "\n",
    "# Manipulação de Dados\n",
    "dados_usuarios [\"Total de Vendas\"] = dados_usuarios[\"Total de Vendas\"].map(\"${:,.2f}\".format)\n",
    "dados_usuarios [\"Média das Vendas\"] = dados_usuarios[\"Média das Vendas\"].map(\"${:,.2f}\".format)\n",
    "dados_usuarios.sort_values(\"Número de Vendas\", ascending=False).head(10)"
   ]
  },
  {
   "cell_type": "markdown",
   "id": "17fc685b",
   "metadata": {},
   "source": [
    "### ANALISANDO OS PREÇOS, SOMA, MÉDIA, E QUANTIDADE DOS DESTINOS "
   ]
  },
  {
   "cell_type": "code",
   "execution_count": 102,
   "id": "6a6f45b7",
   "metadata": {},
   "outputs": [
    {
     "data": {
      "text/html": [
       "<div>\n",
       "<style scoped>\n",
       "    .dataframe tbody tr th:only-of-type {\n",
       "        vertical-align: middle;\n",
       "    }\n",
       "\n",
       "    .dataframe tbody tr th {\n",
       "        vertical-align: top;\n",
       "    }\n",
       "\n",
       "    .dataframe thead th {\n",
       "        text-align: right;\n",
       "    }\n",
       "</style>\n",
       "<table border=\"1\" class=\"dataframe\">\n",
       "  <thead>\n",
       "    <tr style=\"text-align: right;\">\n",
       "      <th></th>\n",
       "      <th>Total de Vendas</th>\n",
       "      <th>Média das Vendas</th>\n",
       "      <th>Número de Vendas</th>\n",
       "    </tr>\n",
       "    <tr>\n",
       "      <th>CidadeDestino</th>\n",
       "      <th></th>\n",
       "      <th></th>\n",
       "      <th></th>\n",
       "    </tr>\n",
       "  </thead>\n",
       "  <tbody>\n",
       "    <tr>\n",
       "      <th>Mumbai</th>\n",
       "      <td>$1,261,231,648.00</td>\n",
       "      <td>$21,489.35</td>\n",
       "      <td>58691</td>\n",
       "    </tr>\n",
       "    <tr>\n",
       "      <th>Delhi</th>\n",
       "      <td>$1,051,299,112.00</td>\n",
       "      <td>$18,525.42</td>\n",
       "      <td>56749</td>\n",
       "    </tr>\n",
       "    <tr>\n",
       "      <th>Bangalore</th>\n",
       "      <td>$1,098,226,866.00</td>\n",
       "      <td>$21,689.51</td>\n",
       "      <td>50634</td>\n",
       "    </tr>\n",
       "    <tr>\n",
       "      <th>Kolkata</th>\n",
       "      <td>$1,082,755,662.00</td>\n",
       "      <td>$22,006.33</td>\n",
       "      <td>49202</td>\n",
       "    </tr>\n",
       "    <tr>\n",
       "      <th>Hyderabad</th>\n",
       "      <td>$872,182,798.00</td>\n",
       "      <td>$20,493.98</td>\n",
       "      <td>42558</td>\n",
       "    </tr>\n",
       "    <tr>\n",
       "      <th>Chennai</th>\n",
       "      <td>$884,027,011.00</td>\n",
       "      <td>$22,042.26</td>\n",
       "      <td>40106</td>\n",
       "    </tr>\n",
       "  </tbody>\n",
       "</table>\n",
       "</div>"
      ],
      "text/plain": [
       "                 Total de Vendas Média das Vendas  Número de Vendas\n",
       "CidadeDestino                                                      \n",
       "Mumbai         $1,261,231,648.00       $21,489.35             58691\n",
       "Delhi          $1,051,299,112.00       $18,525.42             56749\n",
       "Bangalore      $1,098,226,866.00       $21,689.51             50634\n",
       "Kolkata        $1,082,755,662.00       $22,006.33             49202\n",
       "Hyderabad        $872,182,798.00       $20,493.98             42558\n",
       "Chennai          $884,027,011.00       $22,042.26             40106"
      ]
     },
     "execution_count": 102,
     "metadata": {},
     "output_type": "execute_result"
    }
   ],
   "source": [
    "total_compras = df_traduzida.groupby([\"CidadeDestino\"]).sum()[\"Preço\"].rename(\"Total de Vendas\")\n",
    "media_compra = df_traduzida.groupby([\"CidadeDestino\"]).mean()[\"Preço\"].rename(\"Média das Vendas\")\n",
    "numero = df_traduzida.groupby([\"CidadeDestino\"]).count()[\"Preço\"].rename('Número de Vendas')\n",
    "# Dataframe para os resultados\n",
    "dados_usuarios = pd.DataFrame({\"Total de Vendas\": total_compras, \"Média das Vendas\":media_compra,\"Número de Vendas\":numero})\n",
    "\n",
    "# Manipulação de Dados\n",
    "dados_usuarios [\"Total de Vendas\"] = dados_usuarios[\"Total de Vendas\"].map(\"${:,.2f}\".format)\n",
    "dados_usuarios [\"Média das Vendas\"] = dados_usuarios[\"Média das Vendas\"].map(\"${:,.2f}\".format)\n",
    "dados_usuarios.sort_values(\"Número de Vendas\", ascending=False).head(10) "
   ]
  },
  {
   "cell_type": "markdown",
   "id": "beb1e157",
   "metadata": {},
   "source": [
    "### ANALISANDO OS PREÇOS, SOMA, MÉDIA, E QUANTIDADE DOS HORARIOS"
   ]
  },
  {
   "cell_type": "markdown",
   "id": "25d377e6",
   "metadata": {},
   "source": [
    "### PARTIDA"
   ]
  },
  {
   "cell_type": "code",
   "execution_count": 103,
   "id": "aab5d7b3",
   "metadata": {},
   "outputs": [
    {
     "data": {
      "text/html": [
       "<div>\n",
       "<style scoped>\n",
       "    .dataframe tbody tr th:only-of-type {\n",
       "        vertical-align: middle;\n",
       "    }\n",
       "\n",
       "    .dataframe tbody tr th {\n",
       "        vertical-align: top;\n",
       "    }\n",
       "\n",
       "    .dataframe thead th {\n",
       "        text-align: right;\n",
       "    }\n",
       "</style>\n",
       "<table border=\"1\" class=\"dataframe\">\n",
       "  <thead>\n",
       "    <tr style=\"text-align: right;\">\n",
       "      <th></th>\n",
       "      <th>Total de Vendas</th>\n",
       "      <th>Média das Vendas</th>\n",
       "      <th>Número de Vendas</th>\n",
       "    </tr>\n",
       "    <tr>\n",
       "      <th>HorárioPartida</th>\n",
       "      <th></th>\n",
       "      <th></th>\n",
       "      <th></th>\n",
       "    </tr>\n",
       "  </thead>\n",
       "  <tbody>\n",
       "    <tr>\n",
       "      <th>Morning</th>\n",
       "      <td>$1,534,773,018.00</td>\n",
       "      <td>$21,670.24</td>\n",
       "      <td>70824</td>\n",
       "    </tr>\n",
       "    <tr>\n",
       "      <th>Early_Morning</th>\n",
       "      <td>$1,356,430,118.00</td>\n",
       "      <td>$20,474.42</td>\n",
       "      <td>66250</td>\n",
       "    </tr>\n",
       "    <tr>\n",
       "      <th>Evening</th>\n",
       "      <td>$1,373,829,779.00</td>\n",
       "      <td>$21,323.49</td>\n",
       "      <td>64428</td>\n",
       "    </tr>\n",
       "    <tr>\n",
       "      <th>Night</th>\n",
       "      <td>$1,105,079,826.00</td>\n",
       "      <td>$23,191.12</td>\n",
       "      <td>47651</td>\n",
       "    </tr>\n",
       "    <tr>\n",
       "      <th>Afternoon</th>\n",
       "      <td>$867,488,687.00</td>\n",
       "      <td>$18,268.69</td>\n",
       "      <td>47485</td>\n",
       "    </tr>\n",
       "    <tr>\n",
       "      <th>Late_Night</th>\n",
       "      <td>$12,121,669.00</td>\n",
       "      <td>$9,310.04</td>\n",
       "      <td>1302</td>\n",
       "    </tr>\n",
       "  </tbody>\n",
       "</table>\n",
       "</div>"
      ],
      "text/plain": [
       "                  Total de Vendas Média das Vendas  Número de Vendas\n",
       "HorárioPartida                                                      \n",
       "Morning         $1,534,773,018.00       $21,670.24             70824\n",
       "Early_Morning   $1,356,430,118.00       $20,474.42             66250\n",
       "Evening         $1,373,829,779.00       $21,323.49             64428\n",
       "Night           $1,105,079,826.00       $23,191.12             47651\n",
       "Afternoon         $867,488,687.00       $18,268.69             47485\n",
       "Late_Night         $12,121,669.00        $9,310.04              1302"
      ]
     },
     "execution_count": 103,
     "metadata": {},
     "output_type": "execute_result"
    }
   ],
   "source": [
    "total_compras = df_traduzida.groupby([\"HorárioPartida\"]).sum()[\"Preço\"].rename(\"Total de Vendas\")\n",
    "media_compra = df_traduzida.groupby([\"HorárioPartida\"]).mean()[\"Preço\"].rename(\"Média das Vendas\")\n",
    "numero = df_traduzida.groupby([\"HorárioPartida\"]).count()[\"Preço\"].rename('Número de Vendas')\n",
    "# Dataframe para os resultados\n",
    "dados_usuarios = pd.DataFrame({\"Total de Vendas\": total_compras, \"Média das Vendas\":media_compra,\"Número de Vendas\":numero})\n",
    "\n",
    "# Manipulação de Dados\n",
    "dados_usuarios [\"Total de Vendas\"] = dados_usuarios[\"Total de Vendas\"].map(\"${:,.2f}\".format)\n",
    "dados_usuarios [\"Média das Vendas\"] = dados_usuarios[\"Média das Vendas\"].map(\"${:,.2f}\".format)\n",
    "dados_usuarios.sort_values(\"Número de Vendas\", ascending=False).head(10) "
   ]
  },
  {
   "cell_type": "markdown",
   "id": "65b885ad",
   "metadata": {},
   "source": [
    "### CHEGADA"
   ]
  },
  {
   "cell_type": "code",
   "execution_count": 104,
   "id": "9f2302ce",
   "metadata": {},
   "outputs": [
    {
     "data": {
      "text/html": [
       "<div>\n",
       "<style scoped>\n",
       "    .dataframe tbody tr th:only-of-type {\n",
       "        vertical-align: middle;\n",
       "    }\n",
       "\n",
       "    .dataframe tbody tr th {\n",
       "        vertical-align: top;\n",
       "    }\n",
       "\n",
       "    .dataframe thead th {\n",
       "        text-align: right;\n",
       "    }\n",
       "</style>\n",
       "<table border=\"1\" class=\"dataframe\">\n",
       "  <thead>\n",
       "    <tr style=\"text-align: right;\">\n",
       "      <th></th>\n",
       "      <th>Total de Vendas</th>\n",
       "      <th>Média das Vendas</th>\n",
       "      <th>Número de Vendas</th>\n",
       "    </tr>\n",
       "    <tr>\n",
       "      <th>HorárioChegada</th>\n",
       "      <th></th>\n",
       "      <th></th>\n",
       "      <th></th>\n",
       "    </tr>\n",
       "  </thead>\n",
       "  <tbody>\n",
       "    <tr>\n",
       "      <th>Night</th>\n",
       "      <td>$1,967,586,176.00</td>\n",
       "      <td>$21,690.47</td>\n",
       "      <td>90712</td>\n",
       "    </tr>\n",
       "    <tr>\n",
       "      <th>Evening</th>\n",
       "      <td>$1,801,785,695.00</td>\n",
       "      <td>$23,111.67</td>\n",
       "      <td>77960</td>\n",
       "    </tr>\n",
       "    <tr>\n",
       "      <th>Morning</th>\n",
       "      <td>$1,387,483,751.00</td>\n",
       "      <td>$22,359.30</td>\n",
       "      <td>62054</td>\n",
       "    </tr>\n",
       "    <tr>\n",
       "      <th>Afternoon</th>\n",
       "      <td>$704,842,136.00</td>\n",
       "      <td>$18,533.85</td>\n",
       "      <td>38030</td>\n",
       "    </tr>\n",
       "    <tr>\n",
       "      <th>Early_Morning</th>\n",
       "      <td>$230,786,907.00</td>\n",
       "      <td>$15,051.65</td>\n",
       "      <td>15333</td>\n",
       "    </tr>\n",
       "    <tr>\n",
       "      <th>Late_Night</th>\n",
       "      <td>$157,238,432.00</td>\n",
       "      <td>$11,352.14</td>\n",
       "      <td>13851</td>\n",
       "    </tr>\n",
       "  </tbody>\n",
       "</table>\n",
       "</div>"
      ],
      "text/plain": [
       "                  Total de Vendas Média das Vendas  Número de Vendas\n",
       "HorárioChegada                                                      \n",
       "Night           $1,967,586,176.00       $21,690.47             90712\n",
       "Evening         $1,801,785,695.00       $23,111.67             77960\n",
       "Morning         $1,387,483,751.00       $22,359.30             62054\n",
       "Afternoon         $704,842,136.00       $18,533.85             38030\n",
       "Early_Morning     $230,786,907.00       $15,051.65             15333\n",
       "Late_Night        $157,238,432.00       $11,352.14             13851"
      ]
     },
     "execution_count": 104,
     "metadata": {},
     "output_type": "execute_result"
    }
   ],
   "source": [
    "total_compras = df_traduzida.groupby([\"HorárioChegada\"]).sum()[\"Preço\"].rename(\"Total de Vendas\")\n",
    "media_compra = df_traduzida.groupby([\"HorárioChegada\"]).mean()[\"Preço\"].rename(\"Média das Vendas\")\n",
    "numero = df_traduzida.groupby([\"HorárioChegada\"]).count()[\"Preço\"].rename('Número de Vendas')\n",
    "# Dataframe para os resultados\n",
    "dados_usuarios = pd.DataFrame({\"Total de Vendas\": total_compras, \"Média das Vendas\":media_compra,\"Número de Vendas\":numero})\n",
    "\n",
    "# Manipulação de Dados\n",
    "dados_usuarios [\"Total de Vendas\"] = dados_usuarios[\"Total de Vendas\"].map(\"${:,.2f}\".format)\n",
    "dados_usuarios [\"Média das Vendas\"] = dados_usuarios[\"Média das Vendas\"].map(\"${:,.2f}\".format)\n",
    "dados_usuarios.sort_values(\"Número de Vendas\", ascending=False).head(10) "
   ]
  },
  {
   "cell_type": "markdown",
   "id": "3c0cc00e",
   "metadata": {},
   "source": [
    "### ANALISANDO OS PREÇOS, SOMA, MÉDIA, E QUANTIDADE DAS CLASSES"
   ]
  },
  {
   "cell_type": "code",
   "execution_count": 105,
   "id": "cd32b049",
   "metadata": {},
   "outputs": [
    {
     "data": {
      "text/html": [
       "<div>\n",
       "<style scoped>\n",
       "    .dataframe tbody tr th:only-of-type {\n",
       "        vertical-align: middle;\n",
       "    }\n",
       "\n",
       "    .dataframe tbody tr th {\n",
       "        vertical-align: top;\n",
       "    }\n",
       "\n",
       "    .dataframe thead th {\n",
       "        text-align: right;\n",
       "    }\n",
       "</style>\n",
       "<table border=\"1\" class=\"dataframe\">\n",
       "  <thead>\n",
       "    <tr style=\"text-align: right;\">\n",
       "      <th></th>\n",
       "      <th>Total de Vendas</th>\n",
       "      <th>Média das Vendas</th>\n",
       "      <th>Número de Vendas</th>\n",
       "    </tr>\n",
       "    <tr>\n",
       "      <th>ClasseEconomica</th>\n",
       "      <th></th>\n",
       "      <th></th>\n",
       "      <th></th>\n",
       "    </tr>\n",
       "  </thead>\n",
       "  <tbody>\n",
       "    <tr>\n",
       "      <th>Economy</th>\n",
       "      <td>$1,349,628,935.00</td>\n",
       "      <td>$6,591.05</td>\n",
       "      <td>204767</td>\n",
       "    </tr>\n",
       "    <tr>\n",
       "      <th>Business</th>\n",
       "      <td>$4,900,094,162.00</td>\n",
       "      <td>$52,591.35</td>\n",
       "      <td>93173</td>\n",
       "    </tr>\n",
       "  </tbody>\n",
       "</table>\n",
       "</div>"
      ],
      "text/plain": [
       "                   Total de Vendas Média das Vendas  Número de Vendas\n",
       "ClasseEconomica                                                      \n",
       "Economy          $1,349,628,935.00        $6,591.05            204767\n",
       "Business         $4,900,094,162.00       $52,591.35             93173"
      ]
     },
     "execution_count": 105,
     "metadata": {},
     "output_type": "execute_result"
    }
   ],
   "source": [
    "total_compras = df_traduzida.groupby([\"ClasseEconomica\"]).sum()[\"Preço\"].rename(\"Total de Vendas\")\n",
    "media_compra = df_traduzida.groupby([\"ClasseEconomica\"]).mean()[\"Preço\"].rename(\"Média das Vendas\")\n",
    "numero = df_traduzida.groupby([\"ClasseEconomica\"]).count()[\"Preço\"].rename('Número de Vendas')\n",
    "# Dataframe para os resultados\n",
    "dados_usuarios = pd.DataFrame({\"Total de Vendas\": total_compras, \"Média das Vendas\":media_compra,\"Número de Vendas\":numero})\n",
    "\n",
    "# Manipulação de Dados\n",
    "dados_usuarios [\"Total de Vendas\"] = dados_usuarios[\"Total de Vendas\"].map(\"${:,.2f}\".format)\n",
    "dados_usuarios [\"Média das Vendas\"] = dados_usuarios[\"Média das Vendas\"].map(\"${:,.2f}\".format)\n",
    "dados_usuarios.sort_values(\"Número de Vendas\", ascending=False).head(10) "
   ]
  },
  {
   "cell_type": "markdown",
   "id": "177a76bf",
   "metadata": {},
   "source": [
    "### ANALISANDO A CLASSE ECONOMICA"
   ]
  },
  {
   "cell_type": "code",
   "execution_count": 106,
   "id": "134261c6",
   "metadata": {},
   "outputs": [
    {
     "data": {
      "text/html": [
       "<div>\n",
       "<style scoped>\n",
       "    .dataframe tbody tr th:only-of-type {\n",
       "        vertical-align: middle;\n",
       "    }\n",
       "\n",
       "    .dataframe tbody tr th {\n",
       "        vertical-align: top;\n",
       "    }\n",
       "\n",
       "    .dataframe thead th {\n",
       "        text-align: right;\n",
       "    }\n",
       "</style>\n",
       "<table border=\"1\" class=\"dataframe\">\n",
       "  <thead>\n",
       "    <tr style=\"text-align: right;\">\n",
       "      <th></th>\n",
       "      <th>CompanhiaAérea</th>\n",
       "      <th>CidadeOrigem</th>\n",
       "      <th>HorárioPartida</th>\n",
       "      <th>Paradas</th>\n",
       "      <th>HorárioChegada</th>\n",
       "      <th>CidadeDestino</th>\n",
       "      <th>ClasseEconomica</th>\n",
       "      <th>Duração</th>\n",
       "      <th>DiasRestantes</th>\n",
       "      <th>Preço</th>\n",
       "    </tr>\n",
       "  </thead>\n",
       "  <tbody>\n",
       "    <tr>\n",
       "      <th>0</th>\n",
       "      <td>SpiceJet</td>\n",
       "      <td>Delhi</td>\n",
       "      <td>Evening</td>\n",
       "      <td>zero</td>\n",
       "      <td>Night</td>\n",
       "      <td>Mumbai</td>\n",
       "      <td>Economy</td>\n",
       "      <td>2.17</td>\n",
       "      <td>1</td>\n",
       "      <td>5953</td>\n",
       "    </tr>\n",
       "  </tbody>\n",
       "</table>\n",
       "</div>"
      ],
      "text/plain": [
       "  CompanhiaAérea CidadeOrigem HorárioPartida Paradas HorárioChegada  \\\n",
       "0       SpiceJet        Delhi        Evening    zero          Night   \n",
       "\n",
       "  CidadeDestino ClasseEconomica  Duração  DiasRestantes  Preço  \n",
       "0        Mumbai         Economy     2.17              1   5953  "
      ]
     },
     "execution_count": 106,
     "metadata": {},
     "output_type": "execute_result"
    }
   ],
   "source": [
    "economica = df_traduzida.loc[df_traduzida['ClasseEconomica'] == 'Economy']\n",
    "economica.head(1)"
   ]
  },
  {
   "cell_type": "markdown",
   "id": "af2b1b1e",
   "metadata": {},
   "source": [
    "### CAMPANHIAS AREA"
   ]
  },
  {
   "cell_type": "code",
   "execution_count": 107,
   "id": "0e232c63",
   "metadata": {},
   "outputs": [
    {
     "data": {
      "text/html": [
       "<div>\n",
       "<style scoped>\n",
       "    .dataframe tbody tr th:only-of-type {\n",
       "        vertical-align: middle;\n",
       "    }\n",
       "\n",
       "    .dataframe tbody tr th {\n",
       "        vertical-align: top;\n",
       "    }\n",
       "\n",
       "    .dataframe thead th {\n",
       "        text-align: right;\n",
       "    }\n",
       "</style>\n",
       "<table border=\"1\" class=\"dataframe\">\n",
       "  <thead>\n",
       "    <tr style=\"text-align: right;\">\n",
       "      <th></th>\n",
       "      <th>Total de Vendas</th>\n",
       "      <th>Média das Vendas</th>\n",
       "      <th>Número de Vendas</th>\n",
       "    </tr>\n",
       "    <tr>\n",
       "      <th>CompanhiaAérea</th>\n",
       "      <th></th>\n",
       "      <th></th>\n",
       "      <th></th>\n",
       "    </tr>\n",
       "  </thead>\n",
       "  <tbody>\n",
       "    <tr>\n",
       "      <th>Vistara</th>\n",
       "      <td>$521,975,283.00</td>\n",
       "      <td>$7,827.59</td>\n",
       "      <td>66684</td>\n",
       "    </tr>\n",
       "    <tr>\n",
       "      <th>Air_India</th>\n",
       "      <td>$350,966,554.00</td>\n",
       "      <td>$7,313.78</td>\n",
       "      <td>47987</td>\n",
       "    </tr>\n",
       "    <tr>\n",
       "      <th>Indigo</th>\n",
       "      <td>$227,160,154.00</td>\n",
       "      <td>$5,348.72</td>\n",
       "      <td>42470</td>\n",
       "    </tr>\n",
       "    <tr>\n",
       "      <th>GO_FIRST</th>\n",
       "      <td>$130,255,466.00</td>\n",
       "      <td>$5,668.46</td>\n",
       "      <td>22979</td>\n",
       "    </tr>\n",
       "    <tr>\n",
       "      <th>AirAsia</th>\n",
       "      <td>$65,636,559.00</td>\n",
       "      <td>$4,099.47</td>\n",
       "      <td>16011</td>\n",
       "    </tr>\n",
       "    <tr>\n",
       "      <th>SpiceJet</th>\n",
       "      <td>$53,634,919.00</td>\n",
       "      <td>$6,210.62</td>\n",
       "      <td>8636</td>\n",
       "    </tr>\n",
       "  </tbody>\n",
       "</table>\n",
       "</div>"
      ],
      "text/plain": [
       "                Total de Vendas Média das Vendas  Número de Vendas\n",
       "CompanhiaAérea                                                    \n",
       "Vistara         $521,975,283.00        $7,827.59             66684\n",
       "Air_India       $350,966,554.00        $7,313.78             47987\n",
       "Indigo          $227,160,154.00        $5,348.72             42470\n",
       "GO_FIRST        $130,255,466.00        $5,668.46             22979\n",
       "AirAsia          $65,636,559.00        $4,099.47             16011\n",
       "SpiceJet         $53,634,919.00        $6,210.62              8636"
      ]
     },
     "execution_count": 107,
     "metadata": {},
     "output_type": "execute_result"
    }
   ],
   "source": [
    "total_compras = economica.groupby([\"CompanhiaAérea\"]).sum()[\"Preço\"].rename(\"Total de Vendas\")\n",
    "media_compra = economica.groupby([\"CompanhiaAérea\"]).mean()[\"Preço\"].rename(\"Média das Vendas\")\n",
    "numero = economica.groupby([\"CompanhiaAérea\"]).count()[\"Preço\"].rename('Número de Vendas')\n",
    "# Dataframe para os resultados\n",
    "dados_usuarios = pd.DataFrame({\"Total de Vendas\": total_compras, \"Média das Vendas\":media_compra,\"Número de Vendas\":numero})\n",
    "\n",
    "# Manipulação de Dados\n",
    "dados_usuarios [\"Total de Vendas\"] = dados_usuarios[\"Total de Vendas\"].map(\"${:,.2f}\".format)\n",
    "dados_usuarios [\"Média das Vendas\"] = dados_usuarios[\"Média das Vendas\"].map(\"${:,.2f}\".format)\n",
    "dados_usuarios.sort_values(\"Número de Vendas\", ascending=False).head(10)"
   ]
  },
  {
   "cell_type": "markdown",
   "id": "bb24642b",
   "metadata": {},
   "source": [
    "### ANALISANDO AS ORIGENS DAS PASSAGENS"
   ]
  },
  {
   "cell_type": "code",
   "execution_count": 108,
   "id": "d7684c4a",
   "metadata": {},
   "outputs": [
    {
     "data": {
      "text/html": [
       "<div>\n",
       "<style scoped>\n",
       "    .dataframe tbody tr th:only-of-type {\n",
       "        vertical-align: middle;\n",
       "    }\n",
       "\n",
       "    .dataframe tbody tr th {\n",
       "        vertical-align: top;\n",
       "    }\n",
       "\n",
       "    .dataframe thead th {\n",
       "        text-align: right;\n",
       "    }\n",
       "</style>\n",
       "<table border=\"1\" class=\"dataframe\">\n",
       "  <thead>\n",
       "    <tr style=\"text-align: right;\">\n",
       "      <th></th>\n",
       "      <th>Total de Vendas</th>\n",
       "      <th>Média das Vendas</th>\n",
       "      <th>Número de Vendas</th>\n",
       "    </tr>\n",
       "    <tr>\n",
       "      <th>CidadeOrigem</th>\n",
       "      <th></th>\n",
       "      <th></th>\n",
       "      <th></th>\n",
       "    </tr>\n",
       "  </thead>\n",
       "  <tbody>\n",
       "    <tr>\n",
       "      <th>Delhi</th>\n",
       "      <td>$267,382,208.00</td>\n",
       "      <td>$6,314.82</td>\n",
       "      <td>42342</td>\n",
       "    </tr>\n",
       "    <tr>\n",
       "      <th>Mumbai</th>\n",
       "      <td>$258,992,288.00</td>\n",
       "      <td>$6,380.53</td>\n",
       "      <td>40591</td>\n",
       "    </tr>\n",
       "    <tr>\n",
       "      <th>Bangalore</th>\n",
       "      <td>$232,661,944.00</td>\n",
       "      <td>$6,601.84</td>\n",
       "      <td>35242</td>\n",
       "    </tr>\n",
       "    <tr>\n",
       "      <th>Kolkata</th>\n",
       "      <td>$244,620,520.00</td>\n",
       "      <td>$7,465.45</td>\n",
       "      <td>32767</td>\n",
       "    </tr>\n",
       "    <tr>\n",
       "      <th>Hyderabad</th>\n",
       "      <td>$173,786,304.00</td>\n",
       "      <td>$6,243.67</td>\n",
       "      <td>27834</td>\n",
       "    </tr>\n",
       "    <tr>\n",
       "      <th>Chennai</th>\n",
       "      <td>$172,185,671.00</td>\n",
       "      <td>$6,624.82</td>\n",
       "      <td>25991</td>\n",
       "    </tr>\n",
       "  </tbody>\n",
       "</table>\n",
       "</div>"
      ],
      "text/plain": [
       "              Total de Vendas Média das Vendas  Número de Vendas\n",
       "CidadeOrigem                                                    \n",
       "Delhi         $267,382,208.00        $6,314.82             42342\n",
       "Mumbai        $258,992,288.00        $6,380.53             40591\n",
       "Bangalore     $232,661,944.00        $6,601.84             35242\n",
       "Kolkata       $244,620,520.00        $7,465.45             32767\n",
       "Hyderabad     $173,786,304.00        $6,243.67             27834\n",
       "Chennai       $172,185,671.00        $6,624.82             25991"
      ]
     },
     "execution_count": 108,
     "metadata": {},
     "output_type": "execute_result"
    }
   ],
   "source": [
    "total_compras = economica.groupby([\"CidadeOrigem\"]).sum()[\"Preço\"].rename(\"Total de Vendas\")\n",
    "media_compra = economica.groupby([\"CidadeOrigem\"]).mean()[\"Preço\"].rename(\"Média das Vendas\")\n",
    "numero = economica.groupby([\"CidadeOrigem\"]).count()[\"Preço\"].rename('Número de Vendas')\n",
    "# Dataframe para os resultados\n",
    "dados_usuarios = pd.DataFrame({\"Total de Vendas\": total_compras, \"Média das Vendas\":media_compra,\"Número de Vendas\":numero})\n",
    "\n",
    "# Manipulação de Dados\n",
    "dados_usuarios [\"Total de Vendas\"] = dados_usuarios[\"Total de Vendas\"].map(\"${:,.2f}\".format)\n",
    "dados_usuarios [\"Média das Vendas\"] = dados_usuarios[\"Média das Vendas\"].map(\"${:,.2f}\".format)\n",
    "dados_usuarios.sort_values(\"Número de Vendas\", ascending=False).head(10)"
   ]
  },
  {
   "cell_type": "markdown",
   "id": "78eff08a",
   "metadata": {},
   "source": [
    "### ANALISANDO OS DESTINO DAS PASSAGENS"
   ]
  },
  {
   "cell_type": "code",
   "execution_count": 109,
   "id": "7b7211cc",
   "metadata": {},
   "outputs": [
    {
     "data": {
      "text/html": [
       "<div>\n",
       "<style scoped>\n",
       "    .dataframe tbody tr th:only-of-type {\n",
       "        vertical-align: middle;\n",
       "    }\n",
       "\n",
       "    .dataframe tbody tr th {\n",
       "        vertical-align: top;\n",
       "    }\n",
       "\n",
       "    .dataframe thead th {\n",
       "        text-align: right;\n",
       "    }\n",
       "</style>\n",
       "<table border=\"1\" class=\"dataframe\">\n",
       "  <thead>\n",
       "    <tr style=\"text-align: right;\">\n",
       "      <th></th>\n",
       "      <th>Total de Vendas</th>\n",
       "      <th>Média das Vendas</th>\n",
       "      <th>Número de Vendas</th>\n",
       "    </tr>\n",
       "    <tr>\n",
       "      <th>CidadeDestino</th>\n",
       "      <th></th>\n",
       "      <th></th>\n",
       "      <th></th>\n",
       "    </tr>\n",
       "  </thead>\n",
       "  <tbody>\n",
       "    <tr>\n",
       "      <th>Delhi</th>\n",
       "      <td>$251,850,690.00</td>\n",
       "      <td>$6,271.49</td>\n",
       "      <td>40158</td>\n",
       "    </tr>\n",
       "    <tr>\n",
       "      <th>Mumbai</th>\n",
       "      <td>$257,357,257.00</td>\n",
       "      <td>$6,482.06</td>\n",
       "      <td>39703</td>\n",
       "    </tr>\n",
       "    <tr>\n",
       "      <th>Bangalore</th>\n",
       "      <td>$228,930,253.00</td>\n",
       "      <td>$6,632.39</td>\n",
       "      <td>34517</td>\n",
       "    </tr>\n",
       "    <tr>\n",
       "      <th>Kolkata</th>\n",
       "      <td>$248,948,875.00</td>\n",
       "      <td>$7,214.24</td>\n",
       "      <td>34508</td>\n",
       "    </tr>\n",
       "    <tr>\n",
       "      <th>Hyderabad</th>\n",
       "      <td>$182,690,885.00</td>\n",
       "      <td>$6,324.55</td>\n",
       "      <td>28886</td>\n",
       "    </tr>\n",
       "    <tr>\n",
       "      <th>Chennai</th>\n",
       "      <td>$179,850,975.00</td>\n",
       "      <td>$6,662.38</td>\n",
       "      <td>26995</td>\n",
       "    </tr>\n",
       "  </tbody>\n",
       "</table>\n",
       "</div>"
      ],
      "text/plain": [
       "               Total de Vendas Média das Vendas  Número de Vendas\n",
       "CidadeDestino                                                    \n",
       "Delhi          $251,850,690.00        $6,271.49             40158\n",
       "Mumbai         $257,357,257.00        $6,482.06             39703\n",
       "Bangalore      $228,930,253.00        $6,632.39             34517\n",
       "Kolkata        $248,948,875.00        $7,214.24             34508\n",
       "Hyderabad      $182,690,885.00        $6,324.55             28886\n",
       "Chennai        $179,850,975.00        $6,662.38             26995"
      ]
     },
     "execution_count": 109,
     "metadata": {},
     "output_type": "execute_result"
    }
   ],
   "source": [
    "total_compras = economica.groupby([\"CidadeDestino\"]).sum()[\"Preço\"].rename(\"Total de Vendas\")\n",
    "media_compra = economica.groupby([\"CidadeDestino\"]).mean()[\"Preço\"].rename(\"Média das Vendas\")\n",
    "numero = economica.groupby([\"CidadeDestino\"]).count()[\"Preço\"].rename('Número de Vendas')\n",
    "# Dataframe para os resultados\n",
    "dados_usuarios = pd.DataFrame({\"Total de Vendas\": total_compras, \"Média das Vendas\":media_compra,\"Número de Vendas\":numero})\n",
    "\n",
    "# Manipulação de Dados\n",
    "dados_usuarios [\"Total de Vendas\"] = dados_usuarios[\"Total de Vendas\"].map(\"${:,.2f}\".format)\n",
    "dados_usuarios [\"Média das Vendas\"] = dados_usuarios[\"Média das Vendas\"].map(\"${:,.2f}\".format)\n",
    "dados_usuarios.sort_values(\"Número de Vendas\", ascending=False).head(10) "
   ]
  },
  {
   "cell_type": "markdown",
   "id": "a57a399a",
   "metadata": {},
   "source": [
    "### ANALSIANDO OS HORARIOS DE CHEGADA E PARTIDA"
   ]
  },
  {
   "cell_type": "markdown",
   "id": "db226068",
   "metadata": {},
   "source": [
    "### PARTIDA"
   ]
  },
  {
   "cell_type": "code",
   "execution_count": 110,
   "id": "89148d56",
   "metadata": {},
   "outputs": [
    {
     "data": {
      "text/html": [
       "<div>\n",
       "<style scoped>\n",
       "    .dataframe tbody tr th:only-of-type {\n",
       "        vertical-align: middle;\n",
       "    }\n",
       "\n",
       "    .dataframe tbody tr th {\n",
       "        vertical-align: top;\n",
       "    }\n",
       "\n",
       "    .dataframe thead th {\n",
       "        text-align: right;\n",
       "    }\n",
       "</style>\n",
       "<table border=\"1\" class=\"dataframe\">\n",
       "  <thead>\n",
       "    <tr style=\"text-align: right;\">\n",
       "      <th></th>\n",
       "      <th>Total de Vendas</th>\n",
       "      <th>Média das Vendas</th>\n",
       "      <th>Número de Vendas</th>\n",
       "    </tr>\n",
       "    <tr>\n",
       "      <th>HorárioPartida</th>\n",
       "      <th></th>\n",
       "      <th></th>\n",
       "      <th></th>\n",
       "    </tr>\n",
       "  </thead>\n",
       "  <tbody>\n",
       "    <tr>\n",
       "      <th>Morning</th>\n",
       "      <td>$346,374,296.00</td>\n",
       "      <td>$7,131.89</td>\n",
       "      <td>48567</td>\n",
       "    </tr>\n",
       "    <tr>\n",
       "      <th>Early_Morning</th>\n",
       "      <td>$304,085,787.00</td>\n",
       "      <td>$6,580.80</td>\n",
       "      <td>46208</td>\n",
       "    </tr>\n",
       "    <tr>\n",
       "      <th>Evening</th>\n",
       "      <td>$278,743,150.00</td>\n",
       "      <td>$6,377.69</td>\n",
       "      <td>43706</td>\n",
       "    </tr>\n",
       "    <tr>\n",
       "      <th>Afternoon</th>\n",
       "      <td>$226,776,107.00</td>\n",
       "      <td>$6,491.19</td>\n",
       "      <td>34936</td>\n",
       "    </tr>\n",
       "    <tr>\n",
       "      <th>Night</th>\n",
       "      <td>$188,079,058.00</td>\n",
       "      <td>$6,230.67</td>\n",
       "      <td>30186</td>\n",
       "    </tr>\n",
       "    <tr>\n",
       "      <th>Late_Night</th>\n",
       "      <td>$5,570,537.00</td>\n",
       "      <td>$4,785.68</td>\n",
       "      <td>1164</td>\n",
       "    </tr>\n",
       "  </tbody>\n",
       "</table>\n",
       "</div>"
      ],
      "text/plain": [
       "                Total de Vendas Média das Vendas  Número de Vendas\n",
       "HorárioPartida                                                    \n",
       "Morning         $346,374,296.00        $7,131.89             48567\n",
       "Early_Morning   $304,085,787.00        $6,580.80             46208\n",
       "Evening         $278,743,150.00        $6,377.69             43706\n",
       "Afternoon       $226,776,107.00        $6,491.19             34936\n",
       "Night           $188,079,058.00        $6,230.67             30186\n",
       "Late_Night        $5,570,537.00        $4,785.68              1164"
      ]
     },
     "execution_count": 110,
     "metadata": {},
     "output_type": "execute_result"
    }
   ],
   "source": [
    "total_compras = economica.groupby([\"HorárioPartida\"]).sum()[\"Preço\"].rename(\"Total de Vendas\")\n",
    "media_compra = economica.groupby([\"HorárioPartida\"]).mean()[\"Preço\"].rename(\"Média das Vendas\")\n",
    "numero = economica.groupby([\"HorárioPartida\"]).count()[\"Preço\"].rename('Número de Vendas')\n",
    "# Dataframe para os resultados\n",
    "dados_usuarios = pd.DataFrame({\"Total de Vendas\": total_compras, \"Média das Vendas\":media_compra,\"Número de Vendas\":numero})\n",
    "\n",
    "# Manipulação de Dados\n",
    "dados_usuarios [\"Total de Vendas\"] = dados_usuarios[\"Total de Vendas\"].map(\"${:,.2f}\".format)\n",
    "dados_usuarios [\"Média das Vendas\"] = dados_usuarios[\"Média das Vendas\"].map(\"${:,.2f}\".format)\n",
    "dados_usuarios.sort_values(\"Número de Vendas\", ascending=False).head(10) "
   ]
  },
  {
   "cell_type": "markdown",
   "id": "43a557b6",
   "metadata": {},
   "source": [
    "### CHEGADA"
   ]
  },
  {
   "cell_type": "code",
   "execution_count": 111,
   "id": "1d8fc373",
   "metadata": {},
   "outputs": [
    {
     "data": {
      "text/html": [
       "<div>\n",
       "<style scoped>\n",
       "    .dataframe tbody tr th:only-of-type {\n",
       "        vertical-align: middle;\n",
       "    }\n",
       "\n",
       "    .dataframe tbody tr th {\n",
       "        vertical-align: top;\n",
       "    }\n",
       "\n",
       "    .dataframe thead th {\n",
       "        text-align: right;\n",
       "    }\n",
       "</style>\n",
       "<table border=\"1\" class=\"dataframe\">\n",
       "  <thead>\n",
       "    <tr style=\"text-align: right;\">\n",
       "      <th></th>\n",
       "      <th>Total de Vendas</th>\n",
       "      <th>Média das Vendas</th>\n",
       "      <th>Número de Vendas</th>\n",
       "    </tr>\n",
       "    <tr>\n",
       "      <th>HorárioChegada</th>\n",
       "      <th></th>\n",
       "      <th></th>\n",
       "      <th></th>\n",
       "    </tr>\n",
       "  </thead>\n",
       "  <tbody>\n",
       "    <tr>\n",
       "      <th>Night</th>\n",
       "      <td>$417,462,878.00</td>\n",
       "      <td>$6,749.49</td>\n",
       "      <td>61851</td>\n",
       "    </tr>\n",
       "    <tr>\n",
       "      <th>Evening</th>\n",
       "      <td>$372,636,924.00</td>\n",
       "      <td>$7,223.61</td>\n",
       "      <td>51586</td>\n",
       "    </tr>\n",
       "    <tr>\n",
       "      <th>Morning</th>\n",
       "      <td>$260,379,182.00</td>\n",
       "      <td>$6,446.15</td>\n",
       "      <td>40393</td>\n",
       "    </tr>\n",
       "    <tr>\n",
       "      <th>Afternoon</th>\n",
       "      <td>$173,805,454.00</td>\n",
       "      <td>$6,413.49</td>\n",
       "      <td>27100</td>\n",
       "    </tr>\n",
       "    <tr>\n",
       "      <th>Late_Night</th>\n",
       "      <td>$62,184,579.00</td>\n",
       "      <td>$5,174.29</td>\n",
       "      <td>12018</td>\n",
       "    </tr>\n",
       "    <tr>\n",
       "      <th>Early_Morning</th>\n",
       "      <td>$63,159,918.00</td>\n",
       "      <td>$5,343.93</td>\n",
       "      <td>11819</td>\n",
       "    </tr>\n",
       "  </tbody>\n",
       "</table>\n",
       "</div>"
      ],
      "text/plain": [
       "                Total de Vendas Média das Vendas  Número de Vendas\n",
       "HorárioChegada                                                    \n",
       "Night           $417,462,878.00        $6,749.49             61851\n",
       "Evening         $372,636,924.00        $7,223.61             51586\n",
       "Morning         $260,379,182.00        $6,446.15             40393\n",
       "Afternoon       $173,805,454.00        $6,413.49             27100\n",
       "Late_Night       $62,184,579.00        $5,174.29             12018\n",
       "Early_Morning    $63,159,918.00        $5,343.93             11819"
      ]
     },
     "execution_count": 111,
     "metadata": {},
     "output_type": "execute_result"
    }
   ],
   "source": [
    "total_compras = economica.groupby([\"HorárioChegada\"]).sum()[\"Preço\"].rename(\"Total de Vendas\")\n",
    "media_compra = economica.groupby([\"HorárioChegada\"]).mean()[\"Preço\"].rename(\"Média das Vendas\")\n",
    "numero = economica.groupby([\"HorárioChegada\"]).count()[\"Preço\"].rename('Número de Vendas')\n",
    "# Dataframe para os resultados\n",
    "dados_usuarios = pd.DataFrame({\"Total de Vendas\": total_compras, \"Média das Vendas\":media_compra,\"Número de Vendas\":numero})\n",
    "\n",
    "# Manipulação de Dados\n",
    "dados_usuarios [\"Total de Vendas\"] = dados_usuarios[\"Total de Vendas\"].map(\"${:,.2f}\".format)\n",
    "dados_usuarios [\"Média das Vendas\"] = dados_usuarios[\"Média das Vendas\"].map(\"${:,.2f}\".format)\n",
    "dados_usuarios.sort_values(\"Número de Vendas\", ascending=False).head(10) "
   ]
  },
  {
   "cell_type": "markdown",
   "id": "2a2cf955",
   "metadata": {},
   "source": [
    "### ANALISANDO A CLASSE DE NEGÓCIOS \n"
   ]
  },
  {
   "cell_type": "code",
   "execution_count": 112,
   "id": "6b33653f",
   "metadata": {},
   "outputs": [
    {
     "data": {
      "text/html": [
       "<div>\n",
       "<style scoped>\n",
       "    .dataframe tbody tr th:only-of-type {\n",
       "        vertical-align: middle;\n",
       "    }\n",
       "\n",
       "    .dataframe tbody tr th {\n",
       "        vertical-align: top;\n",
       "    }\n",
       "\n",
       "    .dataframe thead th {\n",
       "        text-align: right;\n",
       "    }\n",
       "</style>\n",
       "<table border=\"1\" class=\"dataframe\">\n",
       "  <thead>\n",
       "    <tr style=\"text-align: right;\">\n",
       "      <th></th>\n",
       "      <th>CompanhiaAérea</th>\n",
       "      <th>CidadeOrigem</th>\n",
       "      <th>HorárioPartida</th>\n",
       "      <th>Paradas</th>\n",
       "      <th>HorárioChegada</th>\n",
       "      <th>CidadeDestino</th>\n",
       "      <th>ClasseEconomica</th>\n",
       "      <th>Duração</th>\n",
       "      <th>DiasRestantes</th>\n",
       "      <th>Preço</th>\n",
       "    </tr>\n",
       "  </thead>\n",
       "  <tbody>\n",
       "    <tr>\n",
       "      <th>206666</th>\n",
       "      <td>Air_India</td>\n",
       "      <td>Delhi</td>\n",
       "      <td>Evening</td>\n",
       "      <td>zero</td>\n",
       "      <td>Evening</td>\n",
       "      <td>Mumbai</td>\n",
       "      <td>Business</td>\n",
       "      <td>2.0</td>\n",
       "      <td>1</td>\n",
       "      <td>25612</td>\n",
       "    </tr>\n",
       "  </tbody>\n",
       "</table>\n",
       "</div>"
      ],
      "text/plain": [
       "       CompanhiaAérea CidadeOrigem HorárioPartida Paradas HorárioChegada  \\\n",
       "206666      Air_India        Delhi        Evening    zero        Evening   \n",
       "\n",
       "       CidadeDestino ClasseEconomica  Duração  DiasRestantes  Preço  \n",
       "206666        Mumbai        Business      2.0              1  25612  "
      ]
     },
     "execution_count": 112,
     "metadata": {},
     "output_type": "execute_result"
    }
   ],
   "source": [
    "negocio = df_traduzida.loc[df_traduzida['ClasseEconomica'] == 'Business']\n",
    "negocio.head(1)"
   ]
  },
  {
   "cell_type": "markdown",
   "id": "ae86071f",
   "metadata": {},
   "source": [
    "###  CAMPANHIAS AREA"
   ]
  },
  {
   "cell_type": "code",
   "execution_count": 113,
   "id": "302c2db7",
   "metadata": {},
   "outputs": [
    {
     "data": {
      "text/html": [
       "<div>\n",
       "<style scoped>\n",
       "    .dataframe tbody tr th:only-of-type {\n",
       "        vertical-align: middle;\n",
       "    }\n",
       "\n",
       "    .dataframe tbody tr th {\n",
       "        vertical-align: top;\n",
       "    }\n",
       "\n",
       "    .dataframe thead th {\n",
       "        text-align: right;\n",
       "    }\n",
       "</style>\n",
       "<table border=\"1\" class=\"dataframe\">\n",
       "  <thead>\n",
       "    <tr style=\"text-align: right;\">\n",
       "      <th></th>\n",
       "      <th>Total de Vendas</th>\n",
       "      <th>Média das Vendas</th>\n",
       "      <th>Número de Vendas</th>\n",
       "    </tr>\n",
       "    <tr>\n",
       "      <th>CompanhiaAérea</th>\n",
       "      <th></th>\n",
       "      <th></th>\n",
       "      <th></th>\n",
       "    </tr>\n",
       "  </thead>\n",
       "  <tbody>\n",
       "    <tr>\n",
       "      <th>Vistara</th>\n",
       "      <td>$3,349,695,197.00</td>\n",
       "      <td>$55,570.78</td>\n",
       "      <td>60278</td>\n",
       "    </tr>\n",
       "    <tr>\n",
       "      <th>Air_India</th>\n",
       "      <td>$1,550,398,965.00</td>\n",
       "      <td>$47,131.75</td>\n",
       "      <td>32895</td>\n",
       "    </tr>\n",
       "  </tbody>\n",
       "</table>\n",
       "</div>"
      ],
      "text/plain": [
       "                  Total de Vendas Média das Vendas  Número de Vendas\n",
       "CompanhiaAérea                                                      \n",
       "Vistara         $3,349,695,197.00       $55,570.78             60278\n",
       "Air_India       $1,550,398,965.00       $47,131.75             32895"
      ]
     },
     "execution_count": 113,
     "metadata": {},
     "output_type": "execute_result"
    }
   ],
   "source": [
    "total_compras = negocio.groupby([\"CompanhiaAérea\"]).sum()[\"Preço\"].rename(\"Total de Vendas\")\n",
    "media_compra = negocio.groupby([\"CompanhiaAérea\"]).mean()[\"Preço\"].rename(\"Média das Vendas\")\n",
    "numero = negocio.groupby([\"CompanhiaAérea\"]).count()[\"Preço\"].rename('Número de Vendas')\n",
    "# Dataframe para os resultados\n",
    "dados_usuarios = pd.DataFrame({\"Total de Vendas\": total_compras, \"Média das Vendas\":media_compra,\"Número de Vendas\":numero})\n",
    "\n",
    "# Manipulação de Dados\n",
    "dados_usuarios [\"Total de Vendas\"] = dados_usuarios[\"Total de Vendas\"].map(\"${:,.2f}\".format)\n",
    "dados_usuarios [\"Média das Vendas\"] = dados_usuarios[\"Média das Vendas\"].map(\"${:,.2f}\".format)\n",
    "dados_usuarios.sort_values(\"Número de Vendas\", ascending=False).head(10)"
   ]
  },
  {
   "cell_type": "markdown",
   "id": "47c945be",
   "metadata": {},
   "source": [
    "### ANALISANDO AS ORIGENS DAS PASSAGENS"
   ]
  },
  {
   "cell_type": "code",
   "execution_count": 114,
   "id": "c20af996",
   "metadata": {},
   "outputs": [
    {
     "data": {
      "text/html": [
       "<div>\n",
       "<style scoped>\n",
       "    .dataframe tbody tr th:only-of-type {\n",
       "        vertical-align: middle;\n",
       "    }\n",
       "\n",
       "    .dataframe tbody tr th {\n",
       "        vertical-align: top;\n",
       "    }\n",
       "\n",
       "    .dataframe thead th {\n",
       "        text-align: right;\n",
       "    }\n",
       "</style>\n",
       "<table border=\"1\" class=\"dataframe\">\n",
       "  <thead>\n",
       "    <tr style=\"text-align: right;\">\n",
       "      <th></th>\n",
       "      <th>Total de Vendas</th>\n",
       "      <th>Média das Vendas</th>\n",
       "      <th>Número de Vendas</th>\n",
       "    </tr>\n",
       "    <tr>\n",
       "      <th>CidadeOrigem</th>\n",
       "      <th></th>\n",
       "      <th></th>\n",
       "      <th></th>\n",
       "    </tr>\n",
       "  </thead>\n",
       "  <tbody>\n",
       "    <tr>\n",
       "      <th>Mumbai</th>\n",
       "      <td>$1,043,643,722.00</td>\n",
       "      <td>$52,743.91</td>\n",
       "      <td>19787</td>\n",
       "    </tr>\n",
       "    <tr>\n",
       "      <th>Delhi</th>\n",
       "      <td>$887,314,079.00</td>\n",
       "      <td>$48,839.39</td>\n",
       "      <td>18168</td>\n",
       "    </tr>\n",
       "    <tr>\n",
       "      <th>Bangalore</th>\n",
       "      <td>$879,864,049.00</td>\n",
       "      <td>$53,827.48</td>\n",
       "      <td>16346</td>\n",
       "    </tr>\n",
       "    <tr>\n",
       "      <th>Kolkata</th>\n",
       "      <td>$762,677,705.00</td>\n",
       "      <td>$56,607.86</td>\n",
       "      <td>13473</td>\n",
       "    </tr>\n",
       "    <tr>\n",
       "      <th>Hyderabad</th>\n",
       "      <td>$648,267,900.00</td>\n",
       "      <td>$50,370.47</td>\n",
       "      <td>12870</td>\n",
       "    </tr>\n",
       "    <tr>\n",
       "      <th>Chennai</th>\n",
       "      <td>$678,326,707.00</td>\n",
       "      <td>$54,140.53</td>\n",
       "      <td>12529</td>\n",
       "    </tr>\n",
       "  </tbody>\n",
       "</table>\n",
       "</div>"
      ],
      "text/plain": [
       "                Total de Vendas Média das Vendas  Número de Vendas\n",
       "CidadeOrigem                                                      \n",
       "Mumbai        $1,043,643,722.00       $52,743.91             19787\n",
       "Delhi           $887,314,079.00       $48,839.39             18168\n",
       "Bangalore       $879,864,049.00       $53,827.48             16346\n",
       "Kolkata         $762,677,705.00       $56,607.86             13473\n",
       "Hyderabad       $648,267,900.00       $50,370.47             12870\n",
       "Chennai         $678,326,707.00       $54,140.53             12529"
      ]
     },
     "execution_count": 114,
     "metadata": {},
     "output_type": "execute_result"
    }
   ],
   "source": [
    "total_compras = negocio.groupby([\"CidadeOrigem\"]).sum()[\"Preço\"].rename(\"Total de Vendas\")\n",
    "media_compra = negocio.groupby([\"CidadeOrigem\"]).mean()[\"Preço\"].rename(\"Média das Vendas\")\n",
    "numero = negocio.groupby([\"CidadeOrigem\"]).count()[\"Preço\"].rename('Número de Vendas')\n",
    "# Dataframe para os resultados\n",
    "dados_usuarios = pd.DataFrame({\"Total de Vendas\": total_compras, \"Média das Vendas\":media_compra,\"Número de Vendas\":numero})\n",
    "\n",
    "# Manipulação de Dados\n",
    "dados_usuarios [\"Total de Vendas\"] = dados_usuarios[\"Total de Vendas\"].map(\"${:,.2f}\".format)\n",
    "dados_usuarios [\"Média das Vendas\"] = dados_usuarios[\"Média das Vendas\"].map(\"${:,.2f}\".format)\n",
    "dados_usuarios.sort_values(\"Número de Vendas\", ascending=False).head(10)"
   ]
  },
  {
   "cell_type": "markdown",
   "id": "f2d852ea",
   "metadata": {},
   "source": [
    "### ANALISANDO OS DESTINOS DAS PASSAGENS"
   ]
  },
  {
   "cell_type": "code",
   "execution_count": 115,
   "id": "133c8d14",
   "metadata": {},
   "outputs": [
    {
     "data": {
      "text/html": [
       "<div>\n",
       "<style scoped>\n",
       "    .dataframe tbody tr th:only-of-type {\n",
       "        vertical-align: middle;\n",
       "    }\n",
       "\n",
       "    .dataframe tbody tr th {\n",
       "        vertical-align: top;\n",
       "    }\n",
       "\n",
       "    .dataframe thead th {\n",
       "        text-align: right;\n",
       "    }\n",
       "</style>\n",
       "<table border=\"1\" class=\"dataframe\">\n",
       "  <thead>\n",
       "    <tr style=\"text-align: right;\">\n",
       "      <th></th>\n",
       "      <th>Total de Vendas</th>\n",
       "      <th>Média das Vendas</th>\n",
       "      <th>Número de Vendas</th>\n",
       "    </tr>\n",
       "    <tr>\n",
       "      <th>CidadeDestino</th>\n",
       "      <th></th>\n",
       "      <th></th>\n",
       "      <th></th>\n",
       "    </tr>\n",
       "  </thead>\n",
       "  <tbody>\n",
       "    <tr>\n",
       "      <th>Mumbai</th>\n",
       "      <td>$1,003,874,391.00</td>\n",
       "      <td>$52,868.89</td>\n",
       "      <td>18988</td>\n",
       "    </tr>\n",
       "    <tr>\n",
       "      <th>Delhi</th>\n",
       "      <td>$799,448,422.00</td>\n",
       "      <td>$48,185.67</td>\n",
       "      <td>16591</td>\n",
       "    </tr>\n",
       "    <tr>\n",
       "      <th>Bangalore</th>\n",
       "      <td>$869,296,613.00</td>\n",
       "      <td>$53,936.63</td>\n",
       "      <td>16117</td>\n",
       "    </tr>\n",
       "    <tr>\n",
       "      <th>Kolkata</th>\n",
       "      <td>$833,806,787.00</td>\n",
       "      <td>$56,744.71</td>\n",
       "      <td>14694</td>\n",
       "    </tr>\n",
       "    <tr>\n",
       "      <th>Hyderabad</th>\n",
       "      <td>$689,491,913.00</td>\n",
       "      <td>$50,430.95</td>\n",
       "      <td>13672</td>\n",
       "    </tr>\n",
       "    <tr>\n",
       "      <th>Chennai</th>\n",
       "      <td>$704,176,036.00</td>\n",
       "      <td>$53,708.80</td>\n",
       "      <td>13111</td>\n",
       "    </tr>\n",
       "  </tbody>\n",
       "</table>\n",
       "</div>"
      ],
      "text/plain": [
       "                 Total de Vendas Média das Vendas  Número de Vendas\n",
       "CidadeDestino                                                      \n",
       "Mumbai         $1,003,874,391.00       $52,868.89             18988\n",
       "Delhi            $799,448,422.00       $48,185.67             16591\n",
       "Bangalore        $869,296,613.00       $53,936.63             16117\n",
       "Kolkata          $833,806,787.00       $56,744.71             14694\n",
       "Hyderabad        $689,491,913.00       $50,430.95             13672\n",
       "Chennai          $704,176,036.00       $53,708.80             13111"
      ]
     },
     "execution_count": 115,
     "metadata": {},
     "output_type": "execute_result"
    }
   ],
   "source": [
    "total_compras = negocio.groupby([\"CidadeDestino\"]).sum()[\"Preço\"].rename(\"Total de Vendas\")\n",
    "media_compra = negocio.groupby([\"CidadeDestino\"]).mean()[\"Preço\"].rename(\"Média das Vendas\")\n",
    "numero = negocio.groupby([\"CidadeDestino\"]).count()[\"Preço\"].rename('Número de Vendas')\n",
    "# Dataframe para os resultados\n",
    "dados_usuarios = pd.DataFrame({\"Total de Vendas\": total_compras, \"Média das Vendas\":media_compra,\"Número de Vendas\":numero})\n",
    "\n",
    "# Manipulação de Dados\n",
    "dados_usuarios [\"Total de Vendas\"] = dados_usuarios[\"Total de Vendas\"].map(\"${:,.2f}\".format)\n",
    "dados_usuarios [\"Média das Vendas\"] = dados_usuarios[\"Média das Vendas\"].map(\"${:,.2f}\".format)\n",
    "dados_usuarios.sort_values(\"Número de Vendas\", ascending=False).head(10) "
   ]
  },
  {
   "cell_type": "markdown",
   "id": "d0d50435",
   "metadata": {},
   "source": [
    "### ANALSIANDO OS HORARIOS DE CHEGADA E PARTIDA"
   ]
  },
  {
   "cell_type": "markdown",
   "id": "915a6fe0",
   "metadata": {},
   "source": [
    "### CHEGADA"
   ]
  },
  {
   "cell_type": "code",
   "execution_count": 116,
   "id": "396e58ad",
   "metadata": {},
   "outputs": [
    {
     "data": {
      "text/html": [
       "<div>\n",
       "<style scoped>\n",
       "    .dataframe tbody tr th:only-of-type {\n",
       "        vertical-align: middle;\n",
       "    }\n",
       "\n",
       "    .dataframe tbody tr th {\n",
       "        vertical-align: top;\n",
       "    }\n",
       "\n",
       "    .dataframe thead th {\n",
       "        text-align: right;\n",
       "    }\n",
       "</style>\n",
       "<table border=\"1\" class=\"dataframe\">\n",
       "  <thead>\n",
       "    <tr style=\"text-align: right;\">\n",
       "      <th></th>\n",
       "      <th>Total de Vendas</th>\n",
       "      <th>Média das Vendas</th>\n",
       "      <th>Número de Vendas</th>\n",
       "    </tr>\n",
       "    <tr>\n",
       "      <th>HorárioChegada</th>\n",
       "      <th></th>\n",
       "      <th></th>\n",
       "      <th></th>\n",
       "    </tr>\n",
       "  </thead>\n",
       "  <tbody>\n",
       "    <tr>\n",
       "      <th>Night</th>\n",
       "      <td>$1,550,123,298.00</td>\n",
       "      <td>$53,709.96</td>\n",
       "      <td>28861</td>\n",
       "    </tr>\n",
       "    <tr>\n",
       "      <th>Evening</th>\n",
       "      <td>$1,429,148,771.00</td>\n",
       "      <td>$54,187.79</td>\n",
       "      <td>26374</td>\n",
       "    </tr>\n",
       "    <tr>\n",
       "      <th>Morning</th>\n",
       "      <td>$1,127,104,569.00</td>\n",
       "      <td>$52,033.82</td>\n",
       "      <td>21661</td>\n",
       "    </tr>\n",
       "    <tr>\n",
       "      <th>Afternoon</th>\n",
       "      <td>$531,036,682.00</td>\n",
       "      <td>$48,585.24</td>\n",
       "      <td>10930</td>\n",
       "    </tr>\n",
       "    <tr>\n",
       "      <th>Early_Morning</th>\n",
       "      <td>$167,626,989.00</td>\n",
       "      <td>$47,702.61</td>\n",
       "      <td>3514</td>\n",
       "    </tr>\n",
       "    <tr>\n",
       "      <th>Late_Night</th>\n",
       "      <td>$95,053,853.00</td>\n",
       "      <td>$51,856.98</td>\n",
       "      <td>1833</td>\n",
       "    </tr>\n",
       "  </tbody>\n",
       "</table>\n",
       "</div>"
      ],
      "text/plain": [
       "                  Total de Vendas Média das Vendas  Número de Vendas\n",
       "HorárioChegada                                                      \n",
       "Night           $1,550,123,298.00       $53,709.96             28861\n",
       "Evening         $1,429,148,771.00       $54,187.79             26374\n",
       "Morning         $1,127,104,569.00       $52,033.82             21661\n",
       "Afternoon         $531,036,682.00       $48,585.24             10930\n",
       "Early_Morning     $167,626,989.00       $47,702.61              3514\n",
       "Late_Night         $95,053,853.00       $51,856.98              1833"
      ]
     },
     "execution_count": 116,
     "metadata": {},
     "output_type": "execute_result"
    }
   ],
   "source": [
    "total_compras = negocio.groupby([\"HorárioChegada\"]).sum()[\"Preço\"].rename(\"Total de Vendas\")\n",
    "media_compra = negocio.groupby([\"HorárioChegada\"]).mean()[\"Preço\"].rename(\"Média das Vendas\")\n",
    "numero = negocio.groupby([\"HorárioChegada\"]).count()[\"Preço\"].rename('Número de Vendas')\n",
    "# Dataframe para os resultados\n",
    "dados_usuarios = pd.DataFrame({\"Total de Vendas\": total_compras, \"Média das Vendas\":media_compra,\"Número de Vendas\":numero})\n",
    "\n",
    "# Manipulação de Dados\n",
    "dados_usuarios [\"Total de Vendas\"] = dados_usuarios[\"Total de Vendas\"].map(\"${:,.2f}\".format)\n",
    "dados_usuarios [\"Média das Vendas\"] = dados_usuarios[\"Média das Vendas\"].map(\"${:,.2f}\".format)\n",
    "dados_usuarios.sort_values(\"Número de Vendas\", ascending=False).head(10) "
   ]
  },
  {
   "cell_type": "markdown",
   "id": "22b4fb96",
   "metadata": {},
   "source": [
    "# MACHINE LEARNING "
   ]
  },
  {
   "cell_type": "markdown",
   "id": "9a0cb8d7",
   "metadata": {},
   "source": [
    "### PRÉ PROCESSAMENTO "
   ]
  },
  {
   "cell_type": "code",
   "execution_count": 117,
   "id": "39ac5f0a",
   "metadata": {},
   "outputs": [],
   "source": [
    "df_traduzida = df_traduzida.drop_duplicates()"
   ]
  },
  {
   "cell_type": "code",
   "execution_count": 118,
   "id": "ae9cf395",
   "metadata": {},
   "outputs": [
    {
     "data": {
      "text/html": [
       "<div>\n",
       "<style scoped>\n",
       "    .dataframe tbody tr th:only-of-type {\n",
       "        vertical-align: middle;\n",
       "    }\n",
       "\n",
       "    .dataframe tbody tr th {\n",
       "        vertical-align: top;\n",
       "    }\n",
       "\n",
       "    .dataframe thead th {\n",
       "        text-align: right;\n",
       "    }\n",
       "</style>\n",
       "<table border=\"1\" class=\"dataframe\">\n",
       "  <thead>\n",
       "    <tr style=\"text-align: right;\">\n",
       "      <th></th>\n",
       "      <th>CompanhiaAérea</th>\n",
       "      <th>CidadeOrigem</th>\n",
       "      <th>HorárioPartida</th>\n",
       "      <th>Paradas</th>\n",
       "      <th>HorárioChegada</th>\n",
       "      <th>CidadeDestino</th>\n",
       "      <th>ClasseEconomica</th>\n",
       "      <th>Duração</th>\n",
       "      <th>DiasRestantes</th>\n",
       "      <th>Preço</th>\n",
       "    </tr>\n",
       "  </thead>\n",
       "  <tbody>\n",
       "    <tr>\n",
       "      <th>0</th>\n",
       "      <td>SpiceJet</td>\n",
       "      <td>Delhi</td>\n",
       "      <td>Evening</td>\n",
       "      <td>zero</td>\n",
       "      <td>Night</td>\n",
       "      <td>Mumbai</td>\n",
       "      <td>Economy</td>\n",
       "      <td>2.17</td>\n",
       "      <td>1</td>\n",
       "      <td>5953</td>\n",
       "    </tr>\n",
       "  </tbody>\n",
       "</table>\n",
       "</div>"
      ],
      "text/plain": [
       "  CompanhiaAérea CidadeOrigem HorárioPartida Paradas HorárioChegada  \\\n",
       "0       SpiceJet        Delhi        Evening    zero          Night   \n",
       "\n",
       "  CidadeDestino ClasseEconomica  Duração  DiasRestantes  Preço  \n",
       "0        Mumbai         Economy     2.17              1   5953  "
      ]
     },
     "execution_count": 118,
     "metadata": {},
     "output_type": "execute_result"
    }
   ],
   "source": [
    "df_traduzida.head(1)"
   ]
  },
  {
   "cell_type": "code",
   "execution_count": 119,
   "id": "52dd9669",
   "metadata": {},
   "outputs": [],
   "source": [
    "del df_traduzida['Duração']"
   ]
  },
  {
   "cell_type": "code",
   "execution_count": 120,
   "id": "d0ff70c8",
   "metadata": {},
   "outputs": [],
   "source": [
    "del df_traduzida['HorárioChegada']"
   ]
  },
  {
   "cell_type": "code",
   "execution_count": 121,
   "id": "a0e57a7b",
   "metadata": {},
   "outputs": [],
   "source": [
    "del df_traduzida['DiasRestantes']"
   ]
  },
  {
   "cell_type": "code",
   "execution_count": 122,
   "id": "fe2d2e7c",
   "metadata": {},
   "outputs": [],
   "source": [
    "del df_traduzida['HorárioPartida']"
   ]
  },
  {
   "cell_type": "code",
   "execution_count": null,
   "id": "d0fb4c80",
   "metadata": {},
   "outputs": [],
   "source": []
  },
  {
   "cell_type": "code",
   "execution_count": 123,
   "id": "7bca8639",
   "metadata": {},
   "outputs": [],
   "source": [
    "# Cria o encoder\n",
    "lb = LabelEncoder()\n",
    "\n",
    "df_traduzida['CompanhiaAérea'] = lb.fit_transform(df_traduzida['CompanhiaAérea'])\n",
    "df_traduzida['CidadeOrigem'] = lb.fit_transform(df_traduzida['CidadeOrigem'])\n",
    "df_traduzida['CidadeDestino'] = lb.fit_transform(df_traduzida['CidadeDestino'])\n",
    "df_traduzida['Paradas'] = lb.fit_transform(df_traduzida['Paradas'])\n",
    "df_traduzida['ClasseEconomica'] = lb.fit_transform(df_traduzida['ClasseEconomica'])\n",
    "\n",
    "# Remove valores missing eventualmente gerados\n",
    "df_traduzida.dropna(inplace = True)"
   ]
  },
  {
   "cell_type": "code",
   "execution_count": 124,
   "id": "e34cb07d",
   "metadata": {},
   "outputs": [],
   "source": [
    "# Splitting Independent & Dependent Feature:\n",
    "X = df_traduzida.iloc[:, :-1]\n",
    "y = df_traduzida.iloc[:, -1]"
   ]
  },
  {
   "cell_type": "code",
   "execution_count": 125,
   "id": "d9595168",
   "metadata": {},
   "outputs": [
    {
     "data": {
      "text/html": [
       "<div>\n",
       "<style scoped>\n",
       "    .dataframe tbody tr th:only-of-type {\n",
       "        vertical-align: middle;\n",
       "    }\n",
       "\n",
       "    .dataframe tbody tr th {\n",
       "        vertical-align: top;\n",
       "    }\n",
       "\n",
       "    .dataframe thead th {\n",
       "        text-align: right;\n",
       "    }\n",
       "</style>\n",
       "<table border=\"1\" class=\"dataframe\">\n",
       "  <thead>\n",
       "    <tr style=\"text-align: right;\">\n",
       "      <th></th>\n",
       "      <th>CompanhiaAérea</th>\n",
       "      <th>CidadeOrigem</th>\n",
       "      <th>Paradas</th>\n",
       "      <th>CidadeDestino</th>\n",
       "      <th>ClasseEconomica</th>\n",
       "    </tr>\n",
       "  </thead>\n",
       "  <tbody>\n",
       "    <tr>\n",
       "      <th>0</th>\n",
       "      <td>4</td>\n",
       "      <td>2</td>\n",
       "      <td>2</td>\n",
       "      <td>5</td>\n",
       "      <td>1</td>\n",
       "    </tr>\n",
       "  </tbody>\n",
       "</table>\n",
       "</div>"
      ],
      "text/plain": [
       "   CompanhiaAérea  CidadeOrigem  Paradas  CidadeDestino  ClasseEconomica\n",
       "0               4             2        2              5                1"
      ]
     },
     "execution_count": 125,
     "metadata": {},
     "output_type": "execute_result"
    }
   ],
   "source": [
    "X.head(1)"
   ]
  },
  {
   "cell_type": "code",
   "execution_count": 126,
   "id": "751a93e3",
   "metadata": {},
   "outputs": [
    {
     "data": {
      "text/plain": [
       "0    5953\n",
       "Name: Preço, dtype: int64"
      ]
     },
     "execution_count": 126,
     "metadata": {},
     "output_type": "execute_result"
    }
   ],
   "source": [
    "y.head(1)"
   ]
  },
  {
   "cell_type": "code",
   "execution_count": 127,
   "id": "7c272c90",
   "metadata": {},
   "outputs": [
    {
     "data": {
      "text/html": [
       "<style>#sk-container-id-2 {color: black;}#sk-container-id-2 pre{padding: 0;}#sk-container-id-2 div.sk-toggleable {background-color: white;}#sk-container-id-2 label.sk-toggleable__label {cursor: pointer;display: block;width: 100%;margin-bottom: 0;padding: 0.3em;box-sizing: border-box;text-align: center;}#sk-container-id-2 label.sk-toggleable__label-arrow:before {content: \"▸\";float: left;margin-right: 0.25em;color: #696969;}#sk-container-id-2 label.sk-toggleable__label-arrow:hover:before {color: black;}#sk-container-id-2 div.sk-estimator:hover label.sk-toggleable__label-arrow:before {color: black;}#sk-container-id-2 div.sk-toggleable__content {max-height: 0;max-width: 0;overflow: hidden;text-align: left;background-color: #f0f8ff;}#sk-container-id-2 div.sk-toggleable__content pre {margin: 0.2em;color: black;border-radius: 0.25em;background-color: #f0f8ff;}#sk-container-id-2 input.sk-toggleable__control:checked~div.sk-toggleable__content {max-height: 200px;max-width: 100%;overflow: auto;}#sk-container-id-2 input.sk-toggleable__control:checked~label.sk-toggleable__label-arrow:before {content: \"▾\";}#sk-container-id-2 div.sk-estimator input.sk-toggleable__control:checked~label.sk-toggleable__label {background-color: #d4ebff;}#sk-container-id-2 div.sk-label input.sk-toggleable__control:checked~label.sk-toggleable__label {background-color: #d4ebff;}#sk-container-id-2 input.sk-hidden--visually {border: 0;clip: rect(1px 1px 1px 1px);clip: rect(1px, 1px, 1px, 1px);height: 1px;margin: -1px;overflow: hidden;padding: 0;position: absolute;width: 1px;}#sk-container-id-2 div.sk-estimator {font-family: monospace;background-color: #f0f8ff;border: 1px dotted black;border-radius: 0.25em;box-sizing: border-box;margin-bottom: 0.5em;}#sk-container-id-2 div.sk-estimator:hover {background-color: #d4ebff;}#sk-container-id-2 div.sk-parallel-item::after {content: \"\";width: 100%;border-bottom: 1px solid gray;flex-grow: 1;}#sk-container-id-2 div.sk-label:hover label.sk-toggleable__label {background-color: #d4ebff;}#sk-container-id-2 div.sk-serial::before {content: \"\";position: absolute;border-left: 1px solid gray;box-sizing: border-box;top: 0;bottom: 0;left: 50%;z-index: 0;}#sk-container-id-2 div.sk-serial {display: flex;flex-direction: column;align-items: center;background-color: white;padding-right: 0.2em;padding-left: 0.2em;position: relative;}#sk-container-id-2 div.sk-item {position: relative;z-index: 1;}#sk-container-id-2 div.sk-parallel {display: flex;align-items: stretch;justify-content: center;background-color: white;position: relative;}#sk-container-id-2 div.sk-item::before, #sk-container-id-2 div.sk-parallel-item::before {content: \"\";position: absolute;border-left: 1px solid gray;box-sizing: border-box;top: 0;bottom: 0;left: 50%;z-index: -1;}#sk-container-id-2 div.sk-parallel-item {display: flex;flex-direction: column;z-index: 1;position: relative;background-color: white;}#sk-container-id-2 div.sk-parallel-item:first-child::after {align-self: flex-end;width: 50%;}#sk-container-id-2 div.sk-parallel-item:last-child::after {align-self: flex-start;width: 50%;}#sk-container-id-2 div.sk-parallel-item:only-child::after {width: 0;}#sk-container-id-2 div.sk-dashed-wrapped {border: 1px dashed gray;margin: 0 0.4em 0.5em 0.4em;box-sizing: border-box;padding-bottom: 0.4em;background-color: white;}#sk-container-id-2 div.sk-label label {font-family: monospace;font-weight: bold;display: inline-block;line-height: 1.2em;}#sk-container-id-2 div.sk-label-container {text-align: center;}#sk-container-id-2 div.sk-container {/* jupyter's `normalize.less` sets `[hidden] { display: none; }` but bootstrap.min.css set `[hidden] { display: none !important; }` so we also need the `!important` here to be able to override the default hidden behavior on the sphinx rendered scikit-learn.org. See: https://github.com/scikit-learn/scikit-learn/issues/21755 */display: inline-block !important;position: relative;}#sk-container-id-2 div.sk-text-repr-fallback {display: none;}</style><div id=\"sk-container-id-2\" class=\"sk-top-container\"><div class=\"sk-text-repr-fallback\"><pre>ExtraTreesRegressor()</pre><b>In a Jupyter environment, please rerun this cell to show the HTML representation or trust the notebook. <br />On GitHub, the HTML representation is unable to render, please try loading this page with nbviewer.org.</b></div><div class=\"sk-container\" hidden><div class=\"sk-item\"><div class=\"sk-estimator sk-toggleable\"><input class=\"sk-toggleable__control sk-hidden--visually\" id=\"sk-estimator-id-2\" type=\"checkbox\" checked><label for=\"sk-estimator-id-2\" class=\"sk-toggleable__label sk-toggleable__label-arrow\">ExtraTreesRegressor</label><div class=\"sk-toggleable__content\"><pre>ExtraTreesRegressor()</pre></div></div></div></div></div>"
      ],
      "text/plain": [
       "ExtraTreesRegressor()"
      ]
     },
     "execution_count": 127,
     "metadata": {},
     "output_type": "execute_result"
    }
   ],
   "source": [
    "from sklearn.ensemble import ExtraTreesRegressor\n",
    "\n",
    "# Criação do Modelo - Feature Selection\n",
    "modelo = ExtraTreesRegressor()\n",
    "modelo.fit(X, y)"
   ]
  },
  {
   "cell_type": "code",
   "execution_count": 128,
   "id": "43b496c4",
   "metadata": {},
   "outputs": [
    {
     "name": "stdout",
     "output_type": "stream",
     "text": [
      "Index(['CompanhiaAérea', 'CidadeOrigem', 'Paradas', 'CidadeDestino',\n",
      "       'ClasseEconomica', 'Preço'],\n",
      "      dtype='object')\n",
      "[0.01152253 0.01014771 0.03984371 0.01027176 0.9282143 ]\n"
     ]
    }
   ],
   "source": [
    "# Print dos Resultados\n",
    "print(df_traduzida.columns[0:10])\n",
    "print(modelo.feature_importances_)"
   ]
  },
  {
   "cell_type": "code",
   "execution_count": 129,
   "id": "a3deac96",
   "metadata": {},
   "outputs": [],
   "source": [
    "# SEPRANDO AS VARIAVEIS PARA TREINAMENTO\n",
    "\n",
    "# Train Test Split:\n",
    "from sklearn.model_selection import train_test_split\n",
    "X_train, X_test, y_train, y_test = train_test_split(X,y, test_size=0.3, random_state=0)"
   ]
  },
  {
   "cell_type": "code",
   "execution_count": 134,
   "id": "69e236a9",
   "metadata": {},
   "outputs": [
    {
     "name": "stdout",
     "output_type": "stream",
     "text": [
      "0.9474591029824864\n",
      "#Erro Médio Absoluto (MAE): 3328.16\n",
      "Mean Squared Error (MSE): 27110099.34\n",
      "Coeficiente de Determinação (R²): 0.95\n"
     ]
    }
   ],
   "source": [
    "from sklearn.ensemble import RandomForestRegressor\n",
    "modelo = RandomForestRegressor()\n",
    "modelo = modelo.fit(X_train, y_train)\n",
    "    \n",
    "# Prediction:\n",
    "y_pred = modelo.predict(X_test)\n",
    "\n",
    "# Scores:\n",
    "print(r2_score(y_test, y_pred))\n",
    "\n",
    "# Calculando o Mean Squared Error (MSE)\n",
    "mse = mean_squared_error(y_test, y_pred)\n",
    "\n",
    "# Calculando o Coeficiente de Determinação (R²)\n",
    "r2 = r2_score(y_test, y_pred)\n",
    "\n",
    "#Erro Médio Absoluto (MAE): \n",
    "from sklearn.metrics import mean_absolute_error\n",
    "\n",
    "mae = mean_absolute_error(y_test, y_pred)\n",
    "\n",
    "print(\"#Erro Médio Absoluto (MAE): %.2f\" % mae)\n",
    "print(\"Mean Squared Error (MSE): %.2f\" % mse)\n",
    "print(\"Coeficiente de Determinação (R²): %.2f\" % r2)"
   ]
  },
  {
   "cell_type": "code",
   "execution_count": 131,
   "id": "1535f173",
   "metadata": {},
   "outputs": [
    {
     "data": {
      "text/html": [
       "<div>\n",
       "<style scoped>\n",
       "    .dataframe tbody tr th:only-of-type {\n",
       "        vertical-align: middle;\n",
       "    }\n",
       "\n",
       "    .dataframe tbody tr th {\n",
       "        vertical-align: top;\n",
       "    }\n",
       "\n",
       "    .dataframe thead th {\n",
       "        text-align: right;\n",
       "    }\n",
       "</style>\n",
       "<table border=\"1\" class=\"dataframe\">\n",
       "  <thead>\n",
       "    <tr style=\"text-align: right;\">\n",
       "      <th></th>\n",
       "      <th>CompanhiaAérea</th>\n",
       "      <th>CidadeOrigem</th>\n",
       "      <th>Paradas</th>\n",
       "      <th>CidadeDestino</th>\n",
       "      <th>ClasseEconomica</th>\n",
       "      <th>Preço</th>\n",
       "    </tr>\n",
       "  </thead>\n",
       "  <tbody>\n",
       "    <tr>\n",
       "      <th>0</th>\n",
       "      <td>4</td>\n",
       "      <td>2</td>\n",
       "      <td>2</td>\n",
       "      <td>5</td>\n",
       "      <td>1</td>\n",
       "      <td>5953</td>\n",
       "    </tr>\n",
       "  </tbody>\n",
       "</table>\n",
       "</div>"
      ],
      "text/plain": [
       "   CompanhiaAérea  CidadeOrigem  Paradas  CidadeDestino  ClasseEconomica  \\\n",
       "0               4             2        2              5                1   \n",
       "\n",
       "   Preço  \n",
       "0   5953  "
      ]
     },
     "execution_count": 131,
     "metadata": {},
     "output_type": "execute_result"
    }
   ],
   "source": [
    "df_traduzida.head(1)"
   ]
  },
  {
   "cell_type": "code",
   "execution_count": 135,
   "id": "942f9f04",
   "metadata": {},
   "outputs": [
    {
     "name": "stdout",
     "output_type": "stream",
     "text": [
      "O PREÇO DA PASSAGEN SERÁ DE:  [28133.0409279]\n"
     ]
    }
   ],
   "source": [
    "CompanhiaAérea = 3\n",
    "CidadeOrigem = 2\n",
    "Paradas = 0\n",
    "CidadeDestino = 3\n",
    "ClasseEconomica = 1\n",
    "parametro = [[CompanhiaAérea,CidadeOrigem,CidadeDestino,ClasseEconomica,Paradas]]\n",
    "\n",
    "fazendo_previsao = modelo.predict(parametro)\n",
    "\n",
    "print('O PREÇO DA PASSAGEN SERÁ DE: ', fazendo_previsao)\n"
   ]
  }
 ],
 "metadata": {
  "kernelspec": {
   "display_name": "Python 3 (ipykernel)",
   "language": "python",
   "name": "python3"
  },
  "language_info": {
   "codemirror_mode": {
    "name": "ipython",
    "version": 3
   },
   "file_extension": ".py",
   "mimetype": "text/x-python",
   "name": "python",
   "nbconvert_exporter": "python",
   "pygments_lexer": "ipython3",
   "version": "3.11.4"
  }
 },
 "nbformat": 4,
 "nbformat_minor": 5
}
